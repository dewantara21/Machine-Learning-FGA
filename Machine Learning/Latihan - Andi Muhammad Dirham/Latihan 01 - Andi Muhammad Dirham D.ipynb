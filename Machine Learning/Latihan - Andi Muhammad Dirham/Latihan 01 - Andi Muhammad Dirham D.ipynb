{
 "cells": [
  {
   "cell_type": "markdown",
   "metadata": {
    "button": false,
    "colab_type": "text",
    "deletable": true,
    "id": "MxKL-yuXp6bN",
    "new_sheet": false,
    "run_control": {
     "read_only": false
    }
   },
   "source": [
    "<img src = \"https://i.imgur.com/AKXoLze.jpg\"  align = \"center\">\n",
    "\n",
    "<h1><font size = 5>Introduction to Matplotlib and Line Plots</font></h1>"
   ]
  },
  {
   "cell_type": "markdown",
   "metadata": {
    "button": false,
    "colab_type": "text",
    "deletable": true,
    "id": "DmRQ6P5Mp6bO",
    "new_sheet": false,
    "run_control": {
     "read_only": false
    }
   },
   "source": [
    "## Introduction\n",
    "\n",
    "The aim of these labs is to introduce you to data visualization with Python as concrete and as consistent as possible. \n",
    "Speaking of consistency, because there is no *best* data visualization library avaiblable for Python - up to creating these labs - we have to introduce different libraries and show their benefits when we are discussing new visualization concepts. Doing so, we hope to make students well-rounded with visualization libraries and concepts so that they are able to judge and decide on the best visualitzation technique and tool for a given problem _and_ audience.\n",
    "\n",
    "Please make sure that you have completed the prerequisites for this course, namely [**Python for Data Science**](https://cognitiveclass.ai/courses/python-for-data-science/).\n",
    "\n",
    "**Note**: The majority of the plots and visualizations will be generated using data stored in *pandas* dataframes. Therefore, in this lab, we provide a brief crash course on *pandas*. However, if you are interested in learning more about the *pandas* library, detailed description and explanation of how to use it and how to clean, munge, and process data stored in a *pandas* dataframe are provided in our course [**Data Analysis with Python**](https://cognitiveclass.ai/courses/data-analysis-python/).\n",
    "\n",
    "------------"
   ]
  },
  {
   "cell_type": "markdown",
   "metadata": {
    "button": false,
    "colab_type": "text",
    "deletable": true,
    "id": "IcFEATBdp6bP",
    "new_sheet": false,
    "run_control": {
     "read_only": false
    }
   },
   "source": [
    "## Table of Contents\n",
    "\n",
    "<div class=\"alert alert-block alert-info\" style=\"margin-top: 20px\">\n",
    "\n",
    "1. [Exploring Datasets with *pandas*](#0)<br>\n",
    "1.1 [The Dataset: Immigration to Canada from 1980 to 2013](#2)<br>\n",
    "1.2 [*pandas* Basics](#4) <br>\n",
    "1.3 [*pandas* Intermediate: Indexing and Selection](#6) <br>\n",
    "2. [Visualizing Data using Matplotlib](#8) <br>\n",
    "2.1 [Matplotlib: Standard Python Visualization Library](#10) <br>\n",
    "3. [Line Plots](#12)\n",
    "</div>\n",
    "<hr>"
   ]
  },
  {
   "cell_type": "markdown",
   "metadata": {
    "button": false,
    "colab_type": "text",
    "deletable": true,
    "id": "A4ARbSLtp6bQ",
    "new_sheet": false,
    "run_control": {
     "read_only": false
    }
   },
   "source": [
    "# Exploring Datasets with *pandas* <a id=\"0\"></a>\n",
    "\n",
    "*pandas* is an essential data analysis toolkit for Python. From their [website](http://pandas.pydata.org/):\n",
    ">*pandas* is a Python package providing fast, flexible, and expressive data structures designed to make working with “relational” or “labeled” data both easy and intuitive. It aims to be the fundamental high-level building block for doing practical, **real world** data analysis in Python.\n",
    "\n",
    "The course heavily relies on *pandas* for data wrangling, analysis, and visualization. We encourage you to spend some time and  familizare yourself with the *pandas* API Reference: http://pandas.pydata.org/pandas-docs/stable/api.html."
   ]
  },
  {
   "cell_type": "markdown",
   "metadata": {
    "button": false,
    "colab_type": "text",
    "deletable": true,
    "id": "Kq4DnYbap6bQ",
    "new_sheet": false,
    "run_control": {
     "read_only": false
    }
   },
   "source": [
    "## The Dataset: Immigration to Canada from 1980 to 2013 <a id=\"2\"></a>"
   ]
  },
  {
   "cell_type": "markdown",
   "metadata": {
    "button": false,
    "colab_type": "text",
    "deletable": true,
    "id": "mYIFz4n9p6bR",
    "new_sheet": false,
    "run_control": {
     "read_only": false
    }
   },
   "source": [
    "Dataset Source: [International migration flows to and from selected countries - The 2015 revision](http://www.un.org/en/development/desa/population/migration/data/empirical2/migrationflows.shtml).\n",
    "\n",
    "The dataset contains annual data on the flows of international immigrants as recorded by the countries of destination. The data presents both inflows and outflows according to the place of birth, citizenship or place of previous / next residence both for foreigners and nationals. The current version presents data pertaining to 45 countries.\n",
    "\n",
    "In this lab, we will focus on the Canadian immigration data.\n",
    "\n",
    "<img src = \"https://s3-api.us-geo.objectstorage.softlayer.net/cf-courses-data/CognitiveClass/DV0101EN/labs/coursera/Images/Mod1Fig1-Dataset.png\" align=\"center\" width=900>\n",
    "\n",
    "For sake of simplicity, Canada's immigration data has been extracted and uploaded to one of IBM servers. You can fetch the data from [here](https://ibm.box.com/shared/static/lw190pt9zpy5bd1ptyg2aw15awomz9pu.xlsx).\n",
    "\n",
    "---"
   ]
  },
  {
   "cell_type": "markdown",
   "metadata": {
    "button": false,
    "colab_type": "text",
    "deletable": true,
    "id": "4XWj6QA7p6bS",
    "new_sheet": false,
    "run_control": {
     "read_only": false
    }
   },
   "source": [
    "## *pandas* Basics<a id=\"4\"></a>"
   ]
  },
  {
   "cell_type": "markdown",
   "metadata": {
    "button": false,
    "colab_type": "text",
    "deletable": true,
    "id": "-lX55BxPp6bT",
    "new_sheet": false,
    "run_control": {
     "read_only": false
    }
   },
   "source": [
    "The first thing we'll do is import two key data analysis modules: *pandas* and **Numpy**."
   ]
  },
  {
   "cell_type": "code",
   "execution_count": 3,
   "metadata": {
    "button": false,
    "colab": {},
    "colab_type": "code",
    "collapsed": true,
    "deletable": true,
    "id": "UPtHDSaNp6bT",
    "new_sheet": false,
    "run_control": {
     "read_only": false
    },
    "scrolled": false
   },
   "outputs": [],
   "source": [
    "import numpy as np  # useful for many scientific computing in Python\n",
    "import pandas as pd # primary data structure library"
   ]
  },
  {
   "cell_type": "markdown",
   "metadata": {
    "button": false,
    "colab_type": "text",
    "deletable": true,
    "id": "FqUYzi6Vp6bY",
    "new_sheet": false,
    "run_control": {
     "read_only": false
    }
   },
   "source": [
    "Let's download and import our primary Canadian Immigration dataset using *pandas* `read_excel()` method. Normally, before we can do that, we would need to download a module which *pandas* requires to read in excel files. This module is **xlrd**. For your convenience, we have pre-installed this module, so you would not have to worry about that. Otherwise, you would need to run the following line of code to install the **xlrd** module:\n",
    "```\n",
    "!conda install -c anaconda xlrd --yes\n",
    "```"
   ]
  },
  {
   "cell_type": "markdown",
   "metadata": {
    "button": false,
    "colab_type": "text",
    "deletable": true,
    "id": "uvwaLWxmp6bZ",
    "new_sheet": false,
    "run_control": {
     "read_only": false
    }
   },
   "source": [
    "Now we are ready to read in our data."
   ]
  },
  {
   "cell_type": "code",
   "execution_count": 4,
   "metadata": {
    "button": false,
    "colab": {
     "base_uri": "https://localhost:8080/",
     "height": 35
    },
    "colab_type": "code",
    "collapsed": false,
    "deletable": true,
    "executionInfo": {
     "elapsed": 3169,
     "status": "ok",
     "timestamp": 1563333025733,
     "user": {
      "displayName": "A.M Dirham Dewantara",
      "photoUrl": "https://lh5.googleusercontent.com/-WTvjmG5tB8E/AAAAAAAAAAI/AAAAAAAAAPs/wjM4C_zLOm8/s64/photo.jpg",
      "userId": "02029333175577307706"
     },
     "user_tz": -420
    },
    "id": "nLOkU--Mp6ba",
    "new_sheet": false,
    "outputId": "9f74c807-c55f-4c28-9db7-e67f529b9fa7",
    "run_control": {
     "read_only": false
    },
    "scrolled": false
   },
   "outputs": [
    {
     "name": "stdout",
     "output_type": "stream",
     "text": [
      "Data read into a pandas dataframe!\n"
     ]
    }
   ],
   "source": [
    "df_can = pd.read_excel('https://s3-api.us-geo.objectstorage.softlayer.net/cf-courses-data/CognitiveClass/DV0101EN/labs/Data_Files/Canada.xlsx',\n",
    "                       sheet_name='Canada by Citizenship',\n",
    "                       skiprows=range(20),\n",
    "                       skipfooter=2)\n",
    "\n",
    "print ('Data read into a pandas dataframe!')"
   ]
  },
  {
   "cell_type": "markdown",
   "metadata": {
    "button": false,
    "colab_type": "text",
    "deletable": true,
    "id": "4uW76QUNp6bc",
    "new_sheet": false,
    "run_control": {
     "read_only": false
    }
   },
   "source": [
    "Let's view the top 5 rows of the dataset using the `head()` function."
   ]
  },
  {
   "cell_type": "code",
   "execution_count": 5,
   "metadata": {
    "button": false,
    "colab": {
     "base_uri": "https://localhost:8080/",
     "height": 313
    },
    "colab_type": "code",
    "collapsed": false,
    "deletable": true,
    "executionInfo": {
     "elapsed": 3131,
     "status": "ok",
     "timestamp": 1563333025739,
     "user": {
      "displayName": "A.M Dirham Dewantara",
      "photoUrl": "https://lh5.googleusercontent.com/-WTvjmG5tB8E/AAAAAAAAAAI/AAAAAAAAAPs/wjM4C_zLOm8/s64/photo.jpg",
      "userId": "02029333175577307706"
     },
     "user_tz": -420
    },
    "id": "13iaAjQDp6bd",
    "new_sheet": false,
    "outputId": "b2492e34-89e5-4553-8bfe-88cc3682f003",
    "run_control": {
     "read_only": false
    }
   },
   "outputs": [
    {
     "data": {
      "text/html": [
       "<div>\n",
       "<table border=\"1\" class=\"dataframe\">\n",
       "  <thead>\n",
       "    <tr style=\"text-align: right;\">\n",
       "      <th></th>\n",
       "      <th>Type</th>\n",
       "      <th>Coverage</th>\n",
       "      <th>AreaName</th>\n",
       "      <th>RegName</th>\n",
       "      <th>1980</th>\n",
       "      <th>1981</th>\n",
       "      <th>1982</th>\n",
       "      <th>1983</th>\n",
       "      <th>1984</th>\n",
       "      <th>1985</th>\n",
       "      <th>...</th>\n",
       "      <th>2004</th>\n",
       "      <th>2005</th>\n",
       "      <th>2006</th>\n",
       "      <th>2007</th>\n",
       "      <th>2008</th>\n",
       "      <th>2009</th>\n",
       "      <th>2010</th>\n",
       "      <th>2011</th>\n",
       "      <th>2012</th>\n",
       "      <th>2013</th>\n",
       "    </tr>\n",
       "  </thead>\n",
       "  <tbody>\n",
       "    <tr>\n",
       "      <th>0</th>\n",
       "      <td>Immigrants</td>\n",
       "      <td>Citizens</td>\n",
       "      <td>Northern America</td>\n",
       "      <td>Northern America</td>\n",
       "      <td>..</td>\n",
       "      <td>..</td>\n",
       "      <td>..</td>\n",
       "      <td>..</td>\n",
       "      <td>..</td>\n",
       "      <td>..</td>\n",
       "      <td>...</td>\n",
       "      <td>..</td>\n",
       "      <td>..</td>\n",
       "      <td>..</td>\n",
       "      <td>..</td>\n",
       "      <td>..</td>\n",
       "      <td>..</td>\n",
       "      <td>..</td>\n",
       "      <td>1</td>\n",
       "      <td>1</td>\n",
       "      <td>NaN</td>\n",
       "    </tr>\n",
       "    <tr>\n",
       "      <th>1</th>\n",
       "      <td>Immigrants</td>\n",
       "      <td>Foreigners</td>\n",
       "      <td>Africa</td>\n",
       "      <td>Eastern Africa</td>\n",
       "      <td>1471</td>\n",
       "      <td>1641</td>\n",
       "      <td>1426</td>\n",
       "      <td>1094</td>\n",
       "      <td>1187</td>\n",
       "      <td>1134</td>\n",
       "      <td>...</td>\n",
       "      <td>7726</td>\n",
       "      <td>7083</td>\n",
       "      <td>6750</td>\n",
       "      <td>6669</td>\n",
       "      <td>6705</td>\n",
       "      <td>6922</td>\n",
       "      <td>8591</td>\n",
       "      <td>8956</td>\n",
       "      <td>8846</td>\n",
       "      <td>NaN</td>\n",
       "    </tr>\n",
       "    <tr>\n",
       "      <th>2</th>\n",
       "      <td>Immigrants</td>\n",
       "      <td>Foreigners</td>\n",
       "      <td>Africa</td>\n",
       "      <td>Middle Africa</td>\n",
       "      <td>33</td>\n",
       "      <td>27</td>\n",
       "      <td>44</td>\n",
       "      <td>32</td>\n",
       "      <td>42</td>\n",
       "      <td>30</td>\n",
       "      <td>...</td>\n",
       "      <td>2452</td>\n",
       "      <td>2802</td>\n",
       "      <td>2834</td>\n",
       "      <td>2951</td>\n",
       "      <td>3034</td>\n",
       "      <td>3255</td>\n",
       "      <td>3369</td>\n",
       "      <td>3146</td>\n",
       "      <td>4602</td>\n",
       "      <td>NaN</td>\n",
       "    </tr>\n",
       "    <tr>\n",
       "      <th>3</th>\n",
       "      <td>Immigrants</td>\n",
       "      <td>Foreigners</td>\n",
       "      <td>Africa</td>\n",
       "      <td>Northern Africa</td>\n",
       "      <td>1100</td>\n",
       "      <td>1268</td>\n",
       "      <td>1348</td>\n",
       "      <td>936</td>\n",
       "      <td>842</td>\n",
       "      <td>840</td>\n",
       "      <td>...</td>\n",
       "      <td>12478</td>\n",
       "      <td>11323</td>\n",
       "      <td>12705</td>\n",
       "      <td>11750</td>\n",
       "      <td>13456</td>\n",
       "      <td>16320</td>\n",
       "      <td>19271</td>\n",
       "      <td>15712</td>\n",
       "      <td>15453</td>\n",
       "      <td>NaN</td>\n",
       "    </tr>\n",
       "    <tr>\n",
       "      <th>4</th>\n",
       "      <td>Immigrants</td>\n",
       "      <td>Foreigners</td>\n",
       "      <td>Africa</td>\n",
       "      <td>Southern Africa</td>\n",
       "      <td>1041</td>\n",
       "      <td>1126</td>\n",
       "      <td>791</td>\n",
       "      <td>387</td>\n",
       "      <td>297</td>\n",
       "      <td>327</td>\n",
       "      <td>...</td>\n",
       "      <td>1203</td>\n",
       "      <td>1012</td>\n",
       "      <td>1148</td>\n",
       "      <td>1230</td>\n",
       "      <td>1184</td>\n",
       "      <td>1235</td>\n",
       "      <td>1306</td>\n",
       "      <td>1049</td>\n",
       "      <td>1348</td>\n",
       "      <td>NaN</td>\n",
       "    </tr>\n",
       "  </tbody>\n",
       "</table>\n",
       "<p>5 rows × 38 columns</p>\n",
       "</div>"
      ],
      "text/plain": [
       "         Type    Coverage          AreaName           RegName  1980  1981  \\\n",
       "0  Immigrants    Citizens  Northern America  Northern America    ..    ..   \n",
       "1  Immigrants  Foreigners            Africa    Eastern Africa  1471  1641   \n",
       "2  Immigrants  Foreigners            Africa     Middle Africa    33    27   \n",
       "3  Immigrants  Foreigners            Africa   Northern Africa  1100  1268   \n",
       "4  Immigrants  Foreigners            Africa   Southern Africa  1041  1126   \n",
       "\n",
       "   1982  1983  1984  1985  ...    2004   2005   2006   2007   2008   2009  \\\n",
       "0    ..    ..    ..    ..  ...      ..     ..     ..     ..     ..     ..   \n",
       "1  1426  1094  1187  1134  ...    7726   7083   6750   6669   6705   6922   \n",
       "2    44    32    42    30  ...    2452   2802   2834   2951   3034   3255   \n",
       "3  1348   936   842   840  ...   12478  11323  12705  11750  13456  16320   \n",
       "4   791   387   297   327  ...    1203   1012   1148   1230   1184   1235   \n",
       "\n",
       "    2010   2011   2012  2013  \n",
       "0     ..      1      1   NaN  \n",
       "1   8591   8956   8846   NaN  \n",
       "2   3369   3146   4602   NaN  \n",
       "3  19271  15712  15453   NaN  \n",
       "4   1306   1049   1348   NaN  \n",
       "\n",
       "[5 rows x 38 columns]"
      ]
     },
     "execution_count": 5,
     "metadata": {},
     "output_type": "execute_result"
    }
   ],
   "source": [
    "df_can.head()\n",
    "# tip: You can specify the number of rows you'd like to see as follows: df_can.head(10) "
   ]
  },
  {
   "cell_type": "markdown",
   "metadata": {
    "button": false,
    "colab_type": "text",
    "deletable": true,
    "id": "637hfXNap6bf",
    "new_sheet": false,
    "run_control": {
     "read_only": false
    }
   },
   "source": [
    "We can also veiw the bottom 5 rows of the dataset using the `tail()` function."
   ]
  },
  {
   "cell_type": "code",
   "execution_count": 6,
   "metadata": {
    "button": false,
    "colab": {
     "base_uri": "https://localhost:8080/",
     "height": 330
    },
    "colab_type": "code",
    "collapsed": false,
    "deletable": true,
    "executionInfo": {
     "elapsed": 3104,
     "status": "ok",
     "timestamp": 1563333025743,
     "user": {
      "displayName": "A.M Dirham Dewantara",
      "photoUrl": "https://lh5.googleusercontent.com/-WTvjmG5tB8E/AAAAAAAAAAI/AAAAAAAAAPs/wjM4C_zLOm8/s64/photo.jpg",
      "userId": "02029333175577307706"
     },
     "user_tz": -420
    },
    "id": "y8ovl4vip6bg",
    "new_sheet": false,
    "outputId": "1885dfb8-2893-44ba-b87a-5b714f8d7bb3",
    "run_control": {
     "read_only": false
    }
   },
   "outputs": [
    {
     "data": {
      "text/html": [
       "<div>\n",
       "<table border=\"1\" class=\"dataframe\">\n",
       "  <thead>\n",
       "    <tr style=\"text-align: right;\">\n",
       "      <th></th>\n",
       "      <th>Type</th>\n",
       "      <th>Coverage</th>\n",
       "      <th>AreaName</th>\n",
       "      <th>RegName</th>\n",
       "      <th>1980</th>\n",
       "      <th>1981</th>\n",
       "      <th>1982</th>\n",
       "      <th>1983</th>\n",
       "      <th>1984</th>\n",
       "      <th>1985</th>\n",
       "      <th>...</th>\n",
       "      <th>2004</th>\n",
       "      <th>2005</th>\n",
       "      <th>2006</th>\n",
       "      <th>2007</th>\n",
       "      <th>2008</th>\n",
       "      <th>2009</th>\n",
       "      <th>2010</th>\n",
       "      <th>2011</th>\n",
       "      <th>2012</th>\n",
       "      <th>2013</th>\n",
       "    </tr>\n",
       "  </thead>\n",
       "  <tbody>\n",
       "    <tr>\n",
       "      <th>22</th>\n",
       "      <td>Immigrants</td>\n",
       "      <td>Foreigners</td>\n",
       "      <td>Northern America</td>\n",
       "      <td>Northern America</td>\n",
       "      <td>9378</td>\n",
       "      <td>10030</td>\n",
       "      <td>9074</td>\n",
       "      <td>7100</td>\n",
       "      <td>6661</td>\n",
       "      <td>6543</td>\n",
       "      <td>...</td>\n",
       "      <td>6990</td>\n",
       "      <td>8394</td>\n",
       "      <td>9613</td>\n",
       "      <td>9463</td>\n",
       "      <td>10190</td>\n",
       "      <td>8995</td>\n",
       "      <td>8142</td>\n",
       "      <td>7676</td>\n",
       "      <td>7891</td>\n",
       "      <td>NaN</td>\n",
       "    </tr>\n",
       "    <tr>\n",
       "      <th>23</th>\n",
       "      <td>Immigrants</td>\n",
       "      <td>Foreigners</td>\n",
       "      <td>Oceania</td>\n",
       "      <td>Australia and New Zealand</td>\n",
       "      <td>1304</td>\n",
       "      <td>1119</td>\n",
       "      <td>848</td>\n",
       "      <td>457</td>\n",
       "      <td>481</td>\n",
       "      <td>467</td>\n",
       "      <td>...</td>\n",
       "      <td>1280</td>\n",
       "      <td>1279</td>\n",
       "      <td>1193</td>\n",
       "      <td>1383</td>\n",
       "      <td>1498</td>\n",
       "      <td>1538</td>\n",
       "      <td>1423</td>\n",
       "      <td>1226</td>\n",
       "      <td>1399</td>\n",
       "      <td>NaN</td>\n",
       "    </tr>\n",
       "    <tr>\n",
       "      <th>24</th>\n",
       "      <td>Immigrants</td>\n",
       "      <td>Foreigners</td>\n",
       "      <td>Oceania</td>\n",
       "      <td>Melanesia</td>\n",
       "      <td>632</td>\n",
       "      <td>707</td>\n",
       "      <td>816</td>\n",
       "      <td>558</td>\n",
       "      <td>391</td>\n",
       "      <td>448</td>\n",
       "      <td>...</td>\n",
       "      <td>497</td>\n",
       "      <td>300</td>\n",
       "      <td>278</td>\n",
       "      <td>304</td>\n",
       "      <td>331</td>\n",
       "      <td>313</td>\n",
       "      <td>401</td>\n",
       "      <td>316</td>\n",
       "      <td>273</td>\n",
       "      <td>NaN</td>\n",
       "    </tr>\n",
       "    <tr>\n",
       "      <th>25</th>\n",
       "      <td>Immigrants</td>\n",
       "      <td>Foreigners</td>\n",
       "      <td>Oceania</td>\n",
       "      <td>Micronesia</td>\n",
       "      <td>1</td>\n",
       "      <td>..</td>\n",
       "      <td>..</td>\n",
       "      <td>1</td>\n",
       "      <td>..</td>\n",
       "      <td>..</td>\n",
       "      <td>...</td>\n",
       "      <td>1</td>\n",
       "      <td>2</td>\n",
       "      <td>1</td>\n",
       "      <td>3</td>\n",
       "      <td>1</td>\n",
       "      <td>2</td>\n",
       "      <td>..</td>\n",
       "      <td>..</td>\n",
       "      <td>2</td>\n",
       "      <td>NaN</td>\n",
       "    </tr>\n",
       "    <tr>\n",
       "      <th>26</th>\n",
       "      <td>Immigrants</td>\n",
       "      <td>Foreigners</td>\n",
       "      <td>Oceania</td>\n",
       "      <td>Polynesia</td>\n",
       "      <td>5</td>\n",
       "      <td>13</td>\n",
       "      <td>11</td>\n",
       "      <td>2</td>\n",
       "      <td>6</td>\n",
       "      <td>5</td>\n",
       "      <td>...</td>\n",
       "      <td>10</td>\n",
       "      <td>4</td>\n",
       "      <td>1</td>\n",
       "      <td>3</td>\n",
       "      <td>4</td>\n",
       "      <td>7</td>\n",
       "      <td>10</td>\n",
       "      <td>6</td>\n",
       "      <td>5</td>\n",
       "      <td>NaN</td>\n",
       "    </tr>\n",
       "  </tbody>\n",
       "</table>\n",
       "<p>5 rows × 38 columns</p>\n",
       "</div>"
      ],
      "text/plain": [
       "          Type    Coverage          AreaName                    RegName  1980  \\\n",
       "22  Immigrants  Foreigners  Northern America           Northern America  9378   \n",
       "23  Immigrants  Foreigners           Oceania  Australia and New Zealand  1304   \n",
       "24  Immigrants  Foreigners           Oceania                  Melanesia   632   \n",
       "25  Immigrants  Foreigners           Oceania                 Micronesia     1   \n",
       "26  Immigrants  Foreigners           Oceania                  Polynesia     5   \n",
       "\n",
       "     1981  1982  1983  1984  1985  ...   2004  2005  2006  2007   2008  2009  \\\n",
       "22  10030  9074  7100  6661  6543  ...   6990  8394  9613  9463  10190  8995   \n",
       "23   1119   848   457   481   467  ...   1280  1279  1193  1383   1498  1538   \n",
       "24    707   816   558   391   448  ...    497   300   278   304    331   313   \n",
       "25     ..    ..     1    ..    ..  ...      1     2     1     3      1     2   \n",
       "26     13    11     2     6     5  ...     10     4     1     3      4     7   \n",
       "\n",
       "    2010  2011  2012  2013  \n",
       "22  8142  7676  7891   NaN  \n",
       "23  1423  1226  1399   NaN  \n",
       "24   401   316   273   NaN  \n",
       "25    ..    ..     2   NaN  \n",
       "26    10     6     5   NaN  \n",
       "\n",
       "[5 rows x 38 columns]"
      ]
     },
     "execution_count": 6,
     "metadata": {},
     "output_type": "execute_result"
    }
   ],
   "source": [
    "df_can.tail()"
   ]
  },
  {
   "cell_type": "markdown",
   "metadata": {
    "button": false,
    "colab_type": "text",
    "deletable": true,
    "id": "2Lcqx5Pjp6bi",
    "new_sheet": false,
    "run_control": {
     "read_only": false
    }
   },
   "source": [
    "When analyzing a dataset, it's always a good idea to start by getting basic information about your dataframe. We can do this by using the `info()` method."
   ]
  },
  {
   "cell_type": "code",
   "execution_count": 7,
   "metadata": {
    "button": false,
    "colab": {
     "base_uri": "https://localhost:8080/",
     "height": 899
    },
    "colab_type": "code",
    "collapsed": false,
    "deletable": true,
    "executionInfo": {
     "elapsed": 3077,
     "status": "ok",
     "timestamp": 1563333025748,
     "user": {
      "displayName": "A.M Dirham Dewantara",
      "photoUrl": "https://lh5.googleusercontent.com/-WTvjmG5tB8E/AAAAAAAAAAI/AAAAAAAAAPs/wjM4C_zLOm8/s64/photo.jpg",
      "userId": "02029333175577307706"
     },
     "user_tz": -420
    },
    "id": "JtIqF1N3p6bj",
    "new_sheet": false,
    "outputId": "cc71a0e2-4600-4b3d-879e-49c1a4baf603",
    "run_control": {
     "read_only": false
    },
    "scrolled": true
   },
   "outputs": [
    {
     "name": "stdout",
     "output_type": "stream",
     "text": [
      "<class 'pandas.core.frame.DataFrame'>\n",
      "RangeIndex: 27 entries, 0 to 26\n",
      "Data columns (total 38 columns):\n",
      "Type        27 non-null object\n",
      "Coverage    27 non-null object\n",
      "AreaName    27 non-null object\n",
      "RegName     23 non-null object\n",
      "1980        27 non-null object\n",
      "1981        27 non-null object\n",
      "1982        27 non-null object\n",
      "1983        27 non-null object\n",
      "1984        27 non-null object\n",
      "1985        27 non-null object\n",
      "1986        27 non-null object\n",
      "1987        27 non-null object\n",
      "1988        27 non-null object\n",
      "1989        27 non-null object\n",
      "1990        27 non-null object\n",
      "1991        27 non-null object\n",
      "1992        27 non-null object\n",
      "1993        27 non-null int64\n",
      "1994        27 non-null object\n",
      "1995        27 non-null int64\n",
      "1996        27 non-null int64\n",
      "1997        27 non-null object\n",
      "1998        27 non-null object\n",
      "1999        27 non-null object\n",
      "2000        27 non-null object\n",
      "2001        27 non-null object\n",
      "2002        27 non-null object\n",
      "2003        27 non-null object\n",
      "2004        27 non-null object\n",
      "2005        27 non-null object\n",
      "2006        27 non-null object\n",
      "2007        27 non-null object\n",
      "2008        27 non-null object\n",
      "2009        27 non-null object\n",
      "2010        27 non-null object\n",
      "2011        27 non-null object\n",
      "2012        27 non-null int64\n",
      "2013        0 non-null float64\n",
      "dtypes: float64(1), int64(4), object(33)\n",
      "memory usage: 8.1+ KB\n"
     ]
    }
   ],
   "source": [
    "df_can.info()"
   ]
  },
  {
   "cell_type": "markdown",
   "metadata": {
    "button": false,
    "colab_type": "text",
    "deletable": true,
    "id": "RLCsGt1Ep6bm",
    "new_sheet": false,
    "run_control": {
     "read_only": false
    }
   },
   "source": [
    "To get the list of column headers we can call upon the dataframe's `.columns` parameter."
   ]
  },
  {
   "cell_type": "code",
   "execution_count": 19,
   "metadata": {
    "button": false,
    "colab": {
     "base_uri": "https://localhost:8080/",
     "height": 109
    },
    "colab_type": "code",
    "collapsed": false,
    "deletable": true,
    "executionInfo": {
     "elapsed": 3048,
     "status": "ok",
     "timestamp": 1563333025751,
     "user": {
      "displayName": "A.M Dirham Dewantara",
      "photoUrl": "https://lh5.googleusercontent.com/-WTvjmG5tB8E/AAAAAAAAAAI/AAAAAAAAAPs/wjM4C_zLOm8/s64/photo.jpg",
      "userId": "02029333175577307706"
     },
     "user_tz": -420
    },
    "id": "JsojtUpFp6bo",
    "new_sheet": false,
    "outputId": "42461fb9-2333-4a6f-fc6f-01acafc799f6",
    "run_control": {
     "read_only": false
    },
    "scrolled": false
   },
   "outputs": [
    {
     "data": {
      "text/plain": [
       "array(['Type', 'Coverage', 'AreaName', 'RegName', 1980, 1981, 1982, 1983,\n",
       "       1984, 1985, 1986, 1987, 1988, 1989, 1990, 1991, 1992, 1993, 1994,\n",
       "       1995, 1996, 1997, 1998, 1999, 2000, 2001, 2002, 2003, 2004, 2005,\n",
       "       2006, 2007, 2008, 2009, 2010, 2011, 2012, 2013], dtype=object)"
      ]
     },
     "execution_count": 19,
     "metadata": {},
     "output_type": "execute_result"
    }
   ],
   "source": [
    "df_can.columns.values"
   ]
  },
  {
   "cell_type": "markdown",
   "metadata": {
    "button": false,
    "colab_type": "text",
    "deletable": true,
    "id": "DNTMH0_xp6bs",
    "new_sheet": false,
    "run_control": {
     "read_only": false
    }
   },
   "source": [
    "Similarly, to get the list of indicies we use the `.index` parameter."
   ]
  },
  {
   "cell_type": "code",
   "execution_count": 18,
   "metadata": {
    "button": false,
    "colab": {
     "base_uri": "https://localhost:8080/",
     "height": 293
    },
    "colab_type": "code",
    "collapsed": false,
    "deletable": true,
    "executionInfo": {
     "elapsed": 3024,
     "status": "ok",
     "timestamp": 1563333025755,
     "user": {
      "displayName": "A.M Dirham Dewantara",
      "photoUrl": "https://lh5.googleusercontent.com/-WTvjmG5tB8E/AAAAAAAAAAI/AAAAAAAAAPs/wjM4C_zLOm8/s64/photo.jpg",
      "userId": "02029333175577307706"
     },
     "user_tz": -420
    },
    "id": "IntIzdt4p6bt",
    "new_sheet": false,
    "outputId": "5a6734f8-59a8-451e-8f6e-38e6b3f605a3",
    "run_control": {
     "read_only": false
    },
    "scrolled": true
   },
   "outputs": [
    {
     "data": {
      "text/plain": [
       "array([ 0,  1,  2,  3,  4,  5,  6,  7,  8,  9, 10, 11, 12, 13, 14, 15, 16,\n",
       "       17, 18, 19, 20, 21, 22, 23, 24, 25, 26], dtype=int64)"
      ]
     },
     "execution_count": 18,
     "metadata": {},
     "output_type": "execute_result"
    }
   ],
   "source": [
    "df_can.index.values"
   ]
  },
  {
   "cell_type": "markdown",
   "metadata": {
    "button": false,
    "colab_type": "text",
    "deletable": true,
    "id": "KwJ51jpGp6bz",
    "new_sheet": false,
    "run_control": {
     "read_only": false
    }
   },
   "source": [
    "Note: The default type of index and columns is NOT list."
   ]
  },
  {
   "cell_type": "code",
   "execution_count": 10,
   "metadata": {
    "button": false,
    "colab": {
     "base_uri": "https://localhost:8080/",
     "height": 54
    },
    "colab_type": "code",
    "collapsed": false,
    "deletable": true,
    "executionInfo": {
     "elapsed": 3004,
     "status": "ok",
     "timestamp": 1563333025763,
     "user": {
      "displayName": "A.M Dirham Dewantara",
      "photoUrl": "https://lh5.googleusercontent.com/-WTvjmG5tB8E/AAAAAAAAAAI/AAAAAAAAAPs/wjM4C_zLOm8/s64/photo.jpg",
      "userId": "02029333175577307706"
     },
     "user_tz": -420
    },
    "id": "2yO9jhptp6b0",
    "new_sheet": false,
    "outputId": "4252a343-dd27-4ad5-9906-099031d379bd",
    "run_control": {
     "read_only": false
    },
    "scrolled": false
   },
   "outputs": [
    {
     "name": "stdout",
     "output_type": "stream",
     "text": [
      "<class 'pandas.indexes.base.Index'>\n",
      "<class 'pandas.indexes.range.RangeIndex'>\n"
     ]
    }
   ],
   "source": [
    "print(type(df_can.columns))\n",
    "print(type(df_can.index))"
   ]
  },
  {
   "cell_type": "markdown",
   "metadata": {
    "button": false,
    "colab_type": "text",
    "deletable": true,
    "id": "hQAUF2Wup6b2",
    "new_sheet": false,
    "run_control": {
     "read_only": false
    }
   },
   "source": [
    "To get the index and columns as lists, we can use the `tolist()` method."
   ]
  },
  {
   "cell_type": "code",
   "execution_count": 17,
   "metadata": {
    "button": false,
    "colab": {
     "base_uri": "https://localhost:8080/",
     "height": 54
    },
    "colab_type": "code",
    "collapsed": false,
    "deletable": true,
    "executionInfo": {
     "elapsed": 2979,
     "status": "ok",
     "timestamp": 1563333025766,
     "user": {
      "displayName": "A.M Dirham Dewantara",
      "photoUrl": "https://lh5.googleusercontent.com/-WTvjmG5tB8E/AAAAAAAAAAI/AAAAAAAAAPs/wjM4C_zLOm8/s64/photo.jpg",
      "userId": "02029333175577307706"
     },
     "user_tz": -420
    },
    "id": "lE1fbCIRp6b3",
    "new_sheet": false,
    "outputId": "1aec9928-2ec9-4e38-d98c-6e94cb07fbfa",
    "run_control": {
     "read_only": false
    },
    "scrolled": false
   },
   "outputs": [
    {
     "name": "stdout",
     "output_type": "stream",
     "text": [
      "<class 'list'>\n",
      "<class 'list'>\n"
     ]
    }
   ],
   "source": [
    "df_can.columns.tolist()\n",
    "df_can.index.tolist()\n",
    "\n",
    "print (type(df_can.columns.tolist()))\n",
    "print (type(df_can.index.tolist()))"
   ]
  },
  {
   "cell_type": "markdown",
   "metadata": {
    "button": false,
    "colab_type": "text",
    "deletable": true,
    "id": "uQjvCa6lp6b5",
    "new_sheet": false,
    "run_control": {
     "read_only": false
    }
   },
   "source": [
    "To view the dimensions of the dataframe, we use the `.shape` parameter."
   ]
  },
  {
   "cell_type": "code",
   "execution_count": 15,
   "metadata": {
    "button": false,
    "colab": {
     "base_uri": "https://localhost:8080/",
     "height": 35
    },
    "colab_type": "code",
    "collapsed": false,
    "deletable": true,
    "executionInfo": {
     "elapsed": 2945,
     "status": "ok",
     "timestamp": 1563333025769,
     "user": {
      "displayName": "A.M Dirham Dewantara",
      "photoUrl": "https://lh5.googleusercontent.com/-WTvjmG5tB8E/AAAAAAAAAAI/AAAAAAAAAPs/wjM4C_zLOm8/s64/photo.jpg",
      "userId": "02029333175577307706"
     },
     "user_tz": -420
    },
    "id": "EPYhkRnBp6b6",
    "new_sheet": false,
    "outputId": "007a04f6-56c3-4f8d-b6ed-f6ed3d31e7c8",
    "run_control": {
     "read_only": false
    },
    "scrolled": false
   },
   "outputs": [
    {
     "data": {
      "text/plain": [
       "(27, 38)"
      ]
     },
     "execution_count": 15,
     "metadata": {},
     "output_type": "execute_result"
    }
   ],
   "source": [
    "# size of dataframe (rows, columns)\n",
    "df_can.shape    "
   ]
  },
  {
   "cell_type": "markdown",
   "metadata": {
    "button": false,
    "colab_type": "text",
    "deletable": true,
    "id": "sJFeSYhtp6b8",
    "new_sheet": false,
    "run_control": {
     "read_only": false
    }
   },
   "source": [
    "Note: The main types stored in *pandas* objects are *float*, *int*, *bool*, *datetime64[ns]* and *datetime64[ns, tz] (in >= 0.17.0)*, *timedelta[ns]*, *category (in >= 0.15.0)*, and *object* (string). In addition these dtypes have item sizes, e.g. int64 and int32. "
   ]
  },
  {
   "cell_type": "markdown",
   "metadata": {
    "button": false,
    "colab_type": "text",
    "deletable": true,
    "id": "EUhcKXJrp6b9",
    "new_sheet": false,
    "run_control": {
     "read_only": false
    }
   },
   "source": [
    "Let's clean the data set to remove a few unnecessary columns. We can use *pandas* `drop()` method as follows:"
   ]
  },
  {
   "cell_type": "code",
   "execution_count": 16,
   "metadata": {
    "button": false,
    "colab": {
     "base_uri": "https://localhost:8080/",
     "height": 167
    },
    "colab_type": "code",
    "collapsed": false,
    "deletable": true,
    "executionInfo": {
     "elapsed": 3340,
     "status": "ok",
     "timestamp": 1563333026191,
     "user": {
      "displayName": "A.M Dirham Dewantara",
      "photoUrl": "https://lh5.googleusercontent.com/-WTvjmG5tB8E/AAAAAAAAAAI/AAAAAAAAAPs/wjM4C_zLOm8/s64/photo.jpg",
      "userId": "02029333175577307706"
     },
     "user_tz": -420
    },
    "id": "IEODAu12p6b-",
    "new_sheet": false,
    "outputId": "584a011b-31a6-4374-dae6-9aa110604e1e",
    "run_control": {
     "read_only": false
    },
    "scrolled": false
   },
   "outputs": [
    {
     "ename": "ValueError",
     "evalue": "labels ['AREA' 'REG' 'DEV'] not contained in axis",
     "output_type": "error",
     "traceback": [
      "\u001b[0;31m---------------------------------------------------------------------------\u001b[0m",
      "\u001b[0;31mValueError\u001b[0m                                Traceback (most recent call last)",
      "\u001b[0;32m<ipython-input-16-5774d8a71496>\u001b[0m in \u001b[0;36m<module>\u001b[0;34m()\u001b[0m\n\u001b[1;32m      1\u001b[0m \u001b[1;31m# in pandas axis=0 represents rows (default) and axis=1 represents columns.\u001b[0m\u001b[1;33m\u001b[0m\u001b[1;33m\u001b[0m\u001b[0m\n\u001b[0;32m----> 2\u001b[0;31m \u001b[0mdf_can\u001b[0m\u001b[1;33m.\u001b[0m\u001b[0mdrop\u001b[0m\u001b[1;33m(\u001b[0m\u001b[1;33m[\u001b[0m\u001b[1;34m'AREA'\u001b[0m\u001b[1;33m,\u001b[0m\u001b[1;34m'REG'\u001b[0m\u001b[1;33m,\u001b[0m\u001b[1;34m'DEV'\u001b[0m\u001b[1;33m,\u001b[0m\u001b[1;34m'Type'\u001b[0m\u001b[1;33m,\u001b[0m\u001b[1;34m'Coverage'\u001b[0m\u001b[1;33m]\u001b[0m\u001b[1;33m,\u001b[0m \u001b[0maxis\u001b[0m\u001b[1;33m=\u001b[0m\u001b[1;36m1\u001b[0m\u001b[1;33m,\u001b[0m \u001b[0minplace\u001b[0m\u001b[1;33m=\u001b[0m\u001b[1;32mTrue\u001b[0m\u001b[1;33m)\u001b[0m\u001b[1;33m\u001b[0m\u001b[0m\n\u001b[0m\u001b[1;32m      3\u001b[0m \u001b[0mdf_can\u001b[0m\u001b[1;33m.\u001b[0m\u001b[0mhead\u001b[0m\u001b[1;33m(\u001b[0m\u001b[1;36m2\u001b[0m\u001b[1;33m)\u001b[0m\u001b[1;33m\u001b[0m\u001b[0m\n",
      "\u001b[0;32mC:\\Users\\andidewa\\Anaconda3\\lib\\site-packages\\pandas\\core\\generic.py\u001b[0m in \u001b[0;36mdrop\u001b[0;34m(self, labels, axis, level, inplace, errors)\u001b[0m\n\u001b[1;32m   1875\u001b[0m                 \u001b[0mnew_axis\u001b[0m \u001b[1;33m=\u001b[0m \u001b[0maxis\u001b[0m\u001b[1;33m.\u001b[0m\u001b[0mdrop\u001b[0m\u001b[1;33m(\u001b[0m\u001b[0mlabels\u001b[0m\u001b[1;33m,\u001b[0m \u001b[0mlevel\u001b[0m\u001b[1;33m=\u001b[0m\u001b[0mlevel\u001b[0m\u001b[1;33m,\u001b[0m \u001b[0merrors\u001b[0m\u001b[1;33m=\u001b[0m\u001b[0merrors\u001b[0m\u001b[1;33m)\u001b[0m\u001b[1;33m\u001b[0m\u001b[0m\n\u001b[1;32m   1876\u001b[0m             \u001b[1;32melse\u001b[0m\u001b[1;33m:\u001b[0m\u001b[1;33m\u001b[0m\u001b[0m\n\u001b[0;32m-> 1877\u001b[0;31m                 \u001b[0mnew_axis\u001b[0m \u001b[1;33m=\u001b[0m \u001b[0maxis\u001b[0m\u001b[1;33m.\u001b[0m\u001b[0mdrop\u001b[0m\u001b[1;33m(\u001b[0m\u001b[0mlabels\u001b[0m\u001b[1;33m,\u001b[0m \u001b[0merrors\u001b[0m\u001b[1;33m=\u001b[0m\u001b[0merrors\u001b[0m\u001b[1;33m)\u001b[0m\u001b[1;33m\u001b[0m\u001b[0m\n\u001b[0m\u001b[1;32m   1878\u001b[0m             \u001b[0mdropped\u001b[0m \u001b[1;33m=\u001b[0m \u001b[0mself\u001b[0m\u001b[1;33m.\u001b[0m\u001b[0mreindex\u001b[0m\u001b[1;33m(\u001b[0m\u001b[1;33m**\u001b[0m\u001b[1;33m{\u001b[0m\u001b[0maxis_name\u001b[0m\u001b[1;33m:\u001b[0m \u001b[0mnew_axis\u001b[0m\u001b[1;33m}\u001b[0m\u001b[1;33m)\u001b[0m\u001b[1;33m\u001b[0m\u001b[0m\n\u001b[1;32m   1879\u001b[0m             \u001b[1;32mtry\u001b[0m\u001b[1;33m:\u001b[0m\u001b[1;33m\u001b[0m\u001b[0m\n",
      "\u001b[0;32mC:\\Users\\andidewa\\Anaconda3\\lib\\site-packages\\pandas\\indexes\\base.py\u001b[0m in \u001b[0;36mdrop\u001b[0;34m(self, labels, errors)\u001b[0m\n\u001b[1;32m   3049\u001b[0m             \u001b[1;32mif\u001b[0m \u001b[0merrors\u001b[0m \u001b[1;33m!=\u001b[0m \u001b[1;34m'ignore'\u001b[0m\u001b[1;33m:\u001b[0m\u001b[1;33m\u001b[0m\u001b[0m\n\u001b[1;32m   3050\u001b[0m                 raise ValueError('labels %s not contained in axis' %\n\u001b[0;32m-> 3051\u001b[0;31m                                  labels[mask])\n\u001b[0m\u001b[1;32m   3052\u001b[0m             \u001b[0mindexer\u001b[0m \u001b[1;33m=\u001b[0m \u001b[0mindexer\u001b[0m\u001b[1;33m[\u001b[0m\u001b[1;33m~\u001b[0m\u001b[0mmask\u001b[0m\u001b[1;33m]\u001b[0m\u001b[1;33m\u001b[0m\u001b[0m\n\u001b[1;32m   3053\u001b[0m         \u001b[1;32mreturn\u001b[0m \u001b[0mself\u001b[0m\u001b[1;33m.\u001b[0m\u001b[0mdelete\u001b[0m\u001b[1;33m(\u001b[0m\u001b[0mindexer\u001b[0m\u001b[1;33m)\u001b[0m\u001b[1;33m\u001b[0m\u001b[0m\n",
      "\u001b[0;31mValueError\u001b[0m: labels ['AREA' 'REG' 'DEV'] not contained in axis"
     ]
    }
   ],
   "source": [
    "# in pandas axis=0 represents rows (default) and axis=1 represents columns.\n",
    "df_can.drop(['AREA','REG','DEV','Type','Coverage'], axis=1, inplace=True)\n",
    "df_can.head(2)"
   ]
  },
  {
   "cell_type": "markdown",
   "metadata": {
    "button": false,
    "colab_type": "text",
    "deletable": true,
    "id": "kKvx0SQEp6cA",
    "new_sheet": false,
    "run_control": {
     "read_only": false
    }
   },
   "source": [
    "Let's rename the columns so that they make sense. We can use `rename()` method by passing in a dictionary of old and new names as follows:"
   ]
  },
  {
   "cell_type": "code",
   "execution_count": null,
   "metadata": {
    "button": false,
    "colab": {
     "base_uri": "https://localhost:8080/",
     "height": 182
    },
    "colab_type": "code",
    "collapsed": false,
    "deletable": true,
    "executionInfo": {
     "elapsed": 3314,
     "status": "ok",
     "timestamp": 1563333026196,
     "user": {
      "displayName": "A.M Dirham Dewantara",
      "photoUrl": "https://lh5.googleusercontent.com/-WTvjmG5tB8E/AAAAAAAAAAI/AAAAAAAAAPs/wjM4C_zLOm8/s64/photo.jpg",
      "userId": "02029333175577307706"
     },
     "user_tz": -420
    },
    "id": "ptbQRotVp6cB",
    "new_sheet": false,
    "outputId": "c7dd2146-fa10-4f0d-85aa-5e1556b7df86",
    "run_control": {
     "read_only": false
    },
    "scrolled": false
   },
   "outputs": [],
   "source": [
    "df_can.rename(columns={'OdName':'Country', 'AreaName':'Continent', 'RegName':'Region'}, inplace=True)\n",
    "df_can.columns"
   ]
  },
  {
   "cell_type": "markdown",
   "metadata": {
    "button": false,
    "colab_type": "text",
    "deletable": true,
    "id": "Nc9bePeKp6cE",
    "new_sheet": false,
    "run_control": {
     "read_only": false
    }
   },
   "source": [
    "We will also add a 'Total' column that sums up the total immigrants by country over the entire period 1980 - 2013, as follows:"
   ]
  },
  {
   "cell_type": "code",
   "execution_count": null,
   "metadata": {
    "button": false,
    "colab": {},
    "colab_type": "code",
    "collapsed": true,
    "deletable": true,
    "id": "7QJwDj8yp6cG",
    "new_sheet": false,
    "run_control": {
     "read_only": false
    },
    "scrolled": false
   },
   "outputs": [],
   "source": [
    "df_can['Total'] = df_can.sum(axis=1)"
   ]
  },
  {
   "cell_type": "markdown",
   "metadata": {
    "button": false,
    "colab_type": "text",
    "deletable": true,
    "id": "AITKb1vVp6cJ",
    "new_sheet": false,
    "run_control": {
     "read_only": false
    }
   },
   "source": [
    "We can check to see how many null objects we have in the dataset as follows:"
   ]
  },
  {
   "cell_type": "code",
   "execution_count": null,
   "metadata": {
    "button": false,
    "colab": {
     "base_uri": "https://localhost:8080/",
     "height": 752
    },
    "colab_type": "code",
    "collapsed": false,
    "deletable": true,
    "executionInfo": {
     "elapsed": 3295,
     "status": "ok",
     "timestamp": 1563333026208,
     "user": {
      "displayName": "A.M Dirham Dewantara",
      "photoUrl": "https://lh5.googleusercontent.com/-WTvjmG5tB8E/AAAAAAAAAAI/AAAAAAAAAPs/wjM4C_zLOm8/s64/photo.jpg",
      "userId": "02029333175577307706"
     },
     "user_tz": -420
    },
    "id": "RK-pXqqxp6cJ",
    "new_sheet": false,
    "outputId": "3f9b5f43-2e23-4ee3-d7bd-a1b8b69061c6",
    "run_control": {
     "read_only": false
    },
    "scrolled": true
   },
   "outputs": [],
   "source": [
    "df_can.isnull().sum()"
   ]
  },
  {
   "cell_type": "markdown",
   "metadata": {
    "button": false,
    "colab_type": "text",
    "deletable": true,
    "id": "QOaxZvDep6cO",
    "new_sheet": false,
    "run_control": {
     "read_only": false
    }
   },
   "source": [
    "Finally, let's view a quick summary of each column in our dataframe using the `describe()` method."
   ]
  },
  {
   "cell_type": "code",
   "execution_count": null,
   "metadata": {
    "button": false,
    "colab": {
     "base_uri": "https://localhost:8080/",
     "height": 320
    },
    "colab_type": "code",
    "collapsed": false,
    "deletable": true,
    "executionInfo": {
     "elapsed": 3270,
     "status": "ok",
     "timestamp": 1563333026212,
     "user": {
      "displayName": "A.M Dirham Dewantara",
      "photoUrl": "https://lh5.googleusercontent.com/-WTvjmG5tB8E/AAAAAAAAAAI/AAAAAAAAAPs/wjM4C_zLOm8/s64/photo.jpg",
      "userId": "02029333175577307706"
     },
     "user_tz": -420
    },
    "id": "PHAbXsnLp6cQ",
    "new_sheet": false,
    "outputId": "1ed0f495-8527-40d4-f4ac-7d11986d8457",
    "run_control": {
     "read_only": false
    },
    "scrolled": false
   },
   "outputs": [],
   "source": [
    "df_can.describe()"
   ]
  },
  {
   "cell_type": "markdown",
   "metadata": {
    "button": false,
    "colab_type": "text",
    "deletable": true,
    "id": "i6IpP50fp6cU",
    "new_sheet": false,
    "run_control": {
     "read_only": false
    }
   },
   "source": [
    "---\n",
    "## *pandas* Intermediate: Indexing and Selection (slicing)<a id=\"6\"></a>\n"
   ]
  },
  {
   "cell_type": "markdown",
   "metadata": {
    "button": false,
    "colab_type": "text",
    "deletable": true,
    "id": "8nyNnJTqp6cV",
    "new_sheet": false,
    "run_control": {
     "read_only": false
    }
   },
   "source": [
    "### Select Column\n",
    "**There are two ways to filter on a column name:**\n",
    "\n",
    "Method 1: Quick and easy, but only works if the column name does NOT have spaces or special characters.\n",
    "```python\n",
    "    df.column_name \n",
    "        (returns series)\n",
    "```\n",
    "\n",
    "Method 2: More robust, and can filter on multiple columns.\n",
    "\n",
    "```python\n",
    "    df['column']  \n",
    "        (returns series)\n",
    "```\n",
    "\n",
    "```python \n",
    "    df[['column 1', 'column 2']] \n",
    "        (returns dataframe)\n",
    "```\n",
    "---"
   ]
  },
  {
   "cell_type": "markdown",
   "metadata": {
    "button": false,
    "colab_type": "text",
    "deletable": true,
    "id": "O95s-TcGp6cW",
    "new_sheet": false,
    "run_control": {
     "read_only": false
    }
   },
   "source": [
    "Example: Let's try filtering on the list of countries ('Country')."
   ]
  },
  {
   "cell_type": "code",
   "execution_count": null,
   "metadata": {
    "button": false,
    "colab": {
     "base_uri": "https://localhost:8080/",
     "height": 0
    },
    "colab_type": "code",
    "collapsed": false,
    "deletable": true,
    "executionInfo": {
     "elapsed": 3253,
     "status": "ok",
     "timestamp": 1563333026216,
     "user": {
      "displayName": "A.M Dirham Dewantara",
      "photoUrl": "https://lh5.googleusercontent.com/-WTvjmG5tB8E/AAAAAAAAAAI/AAAAAAAAAPs/wjM4C_zLOm8/s64/photo.jpg",
      "userId": "02029333175577307706"
     },
     "user_tz": -420
    },
    "id": "b8ODDhCMp6cX",
    "new_sheet": false,
    "outputId": "31abad48-b73b-4141-e680-85464242e9b7",
    "run_control": {
     "read_only": false
    },
    "scrolled": true
   },
   "outputs": [],
   "source": [
    "df_can.Country  # returns a series"
   ]
  },
  {
   "cell_type": "markdown",
   "metadata": {
    "button": false,
    "colab_type": "text",
    "deletable": true,
    "id": "QtLameSap6cb",
    "new_sheet": false,
    "run_control": {
     "read_only": false
    }
   },
   "source": [
    "Let's try filtering on the list of countries ('OdName') and the data for years: 1980 - 1985."
   ]
  },
  {
   "cell_type": "code",
   "execution_count": null,
   "metadata": {
    "button": false,
    "colab": {
     "base_uri": "https://localhost:8080/",
     "height": 0
    },
    "colab_type": "code",
    "collapsed": false,
    "deletable": true,
    "executionInfo": {
     "elapsed": 3240,
     "status": "ok",
     "timestamp": 1563333026219,
     "user": {
      "displayName": "A.M Dirham Dewantara",
      "photoUrl": "https://lh5.googleusercontent.com/-WTvjmG5tB8E/AAAAAAAAAAI/AAAAAAAAAPs/wjM4C_zLOm8/s64/photo.jpg",
      "userId": "02029333175577307706"
     },
     "user_tz": -420
    },
    "id": "xCbUR544p6cc",
    "new_sheet": false,
    "outputId": "9d70c9a2-0b25-4917-d582-c1f00f580a9f",
    "run_control": {
     "read_only": false
    }
   },
   "outputs": [],
   "source": [
    "df_can[['Country', 1980, 1981, 1982, 1983, 1984, 1985]] # returns a dataframe\n",
    "# notice that 'Country' is string, and the years are integers. \n",
    "# for the sake of consistency, we will convert all column names to string later on."
   ]
  },
  {
   "cell_type": "markdown",
   "metadata": {
    "button": false,
    "colab_type": "text",
    "deletable": true,
    "id": "nJeaOqAZp6ch",
    "new_sheet": false,
    "run_control": {
     "read_only": false
    }
   },
   "source": [
    "### Select Row\n",
    "\n",
    "There are main 3 ways to select rows:\n",
    "\n",
    "```python\n",
    "    df.loc[label]        \n",
    "        #filters by the labels of the index/column\n",
    "    df.iloc[index]       \n",
    "        #filters by the positions of the index/column\n",
    "```"
   ]
  },
  {
   "cell_type": "markdown",
   "metadata": {
    "button": false,
    "colab_type": "text",
    "deletable": true,
    "id": "txPB7GbEp6ch",
    "new_sheet": false,
    "run_control": {
     "read_only": false
    }
   },
   "source": [
    "Before we proceed, notice that the defaul index of the dataset is a numeric range from 0 to 194. This makes it very difficult to do a query by a specific country. For example to search for data on Japan, we need to know the corressponding index value.\n",
    "\n",
    "This can be fixed very easily by setting the 'Country' column as the index using `set_index()` method."
   ]
  },
  {
   "cell_type": "code",
   "execution_count": null,
   "metadata": {
    "button": false,
    "colab": {},
    "colab_type": "code",
    "collapsed": true,
    "deletable": true,
    "id": "xT1mcIivp6ci",
    "new_sheet": false,
    "run_control": {
     "read_only": false
    },
    "scrolled": true
   },
   "outputs": [],
   "source": [
    "df_can.set_index('Country', inplace=True)\n",
    "# tip: The opposite of set is reset. So to reset the index, we can use df_can.reset_index()"
   ]
  },
  {
   "cell_type": "code",
   "execution_count": null,
   "metadata": {
    "button": false,
    "colab": {
     "base_uri": "https://localhost:8080/",
     "height": 0
    },
    "colab_type": "code",
    "collapsed": false,
    "deletable": true,
    "executionInfo": {
     "elapsed": 3726,
     "status": "ok",
     "timestamp": 1563333026725,
     "user": {
      "displayName": "A.M Dirham Dewantara",
      "photoUrl": "https://lh5.googleusercontent.com/-WTvjmG5tB8E/AAAAAAAAAAI/AAAAAAAAAPs/wjM4C_zLOm8/s64/photo.jpg",
      "userId": "02029333175577307706"
     },
     "user_tz": -420
    },
    "id": "PMDdlIibp6cm",
    "new_sheet": false,
    "outputId": "07ae159f-d9c9-4d36-e390-d2522a308cfc",
    "run_control": {
     "read_only": false
    },
    "scrolled": false
   },
   "outputs": [],
   "source": [
    "df_can.head(3)"
   ]
  },
  {
   "cell_type": "code",
   "execution_count": null,
   "metadata": {
    "button": false,
    "colab": {},
    "colab_type": "code",
    "collapsed": true,
    "deletable": true,
    "id": "G7JI4hi2p6cp",
    "new_sheet": false,
    "run_control": {
     "read_only": false
    },
    "scrolled": false
   },
   "outputs": [],
   "source": [
    "# optional: to remove the name of the index\n",
    "df_can.index.name = None"
   ]
  },
  {
   "cell_type": "markdown",
   "metadata": {
    "button": false,
    "colab_type": "text",
    "deletable": true,
    "id": "r3lKTj3sp6cv",
    "new_sheet": false,
    "run_control": {
     "read_only": false
    }
   },
   "source": [
    "Example: Let's view the number of immigrants from Japan (row 87) for the following scenarios:\n",
    "    1. The full row data (all columns)\n",
    "    2. For year 2013\n",
    "    3. For years 1980 to 1985"
   ]
  },
  {
   "cell_type": "code",
   "execution_count": 20,
   "metadata": {
    "button": false,
    "colab": {
     "base_uri": "https://localhost:8080/",
     "height": 0
    },
    "colab_type": "code",
    "collapsed": false,
    "deletable": true,
    "executionInfo": {
     "elapsed": 3721,
     "status": "ok",
     "timestamp": 1563333026737,
     "user": {
      "displayName": "A.M Dirham Dewantara",
      "photoUrl": "https://lh5.googleusercontent.com/-WTvjmG5tB8E/AAAAAAAAAAI/AAAAAAAAAPs/wjM4C_zLOm8/s64/photo.jpg",
      "userId": "02029333175577307706"
     },
     "user_tz": -420
    },
    "id": "VsJehXVip6cw",
    "new_sheet": false,
    "outputId": "236d2688-de87-43d3-fb8d-8a536c79a256",
    "run_control": {
     "read_only": false
    },
    "scrolled": true
   },
   "outputs": [
    {
     "ename": "KeyError",
     "evalue": "'the label [Japan] is not in the [index]'",
     "output_type": "error",
     "traceback": [
      "\u001b[0;31m---------------------------------------------------------------------------\u001b[0m",
      "\u001b[0;31mKeyError\u001b[0m                                  Traceback (most recent call last)",
      "\u001b[0;32mC:\\Users\\andidewa\\Anaconda3\\lib\\site-packages\\pandas\\core\\indexing.py\u001b[0m in \u001b[0;36m_has_valid_type\u001b[0;34m(self, key, axis)\u001b[0m\n\u001b[1;32m   1394\u001b[0m                 \u001b[1;32mif\u001b[0m \u001b[0mkey\u001b[0m \u001b[1;32mnot\u001b[0m \u001b[1;32min\u001b[0m \u001b[0max\u001b[0m\u001b[1;33m:\u001b[0m\u001b[1;33m\u001b[0m\u001b[0m\n\u001b[0;32m-> 1395\u001b[0;31m                     \u001b[0merror\u001b[0m\u001b[1;33m(\u001b[0m\u001b[1;33m)\u001b[0m\u001b[1;33m\u001b[0m\u001b[0m\n\u001b[0m\u001b[1;32m   1396\u001b[0m             \u001b[1;32mexcept\u001b[0m \u001b[0mTypeError\u001b[0m \u001b[1;32mas\u001b[0m \u001b[0me\u001b[0m\u001b[1;33m:\u001b[0m\u001b[1;33m\u001b[0m\u001b[0m\n",
      "\u001b[0;32mC:\\Users\\andidewa\\Anaconda3\\lib\\site-packages\\pandas\\core\\indexing.py\u001b[0m in \u001b[0;36merror\u001b[0;34m()\u001b[0m\n\u001b[1;32m   1389\u001b[0m                 raise KeyError(\"the label [%s] is not in the [%s]\" %\n\u001b[0;32m-> 1390\u001b[0;31m                                (key, self.obj._get_axis_name(axis)))\n\u001b[0m\u001b[1;32m   1391\u001b[0m \u001b[1;33m\u001b[0m\u001b[0m\n",
      "\u001b[0;31mKeyError\u001b[0m: 'the label [Japan] is not in the [index]'",
      "\nDuring handling of the above exception, another exception occurred:\n",
      "\u001b[0;31mKeyError\u001b[0m                                  Traceback (most recent call last)",
      "\u001b[0;32m<ipython-input-20-e968902492c8>\u001b[0m in \u001b[0;36m<module>\u001b[0;34m()\u001b[0m\n\u001b[1;32m      1\u001b[0m \u001b[1;31m# 1. the full row data (all columns)\u001b[0m\u001b[1;33m\u001b[0m\u001b[1;33m\u001b[0m\u001b[0m\n\u001b[0;32m----> 2\u001b[0;31m \u001b[0mprint\u001b[0m\u001b[1;33m(\u001b[0m\u001b[0mdf_can\u001b[0m\u001b[1;33m.\u001b[0m\u001b[0mloc\u001b[0m\u001b[1;33m[\u001b[0m\u001b[1;34m'Japan'\u001b[0m\u001b[1;33m]\u001b[0m\u001b[1;33m)\u001b[0m\u001b[1;33m\u001b[0m\u001b[0m\n\u001b[0m\u001b[1;32m      3\u001b[0m \u001b[1;33m\u001b[0m\u001b[0m\n\u001b[1;32m      4\u001b[0m \u001b[1;31m# alternate methods\u001b[0m\u001b[1;33m\u001b[0m\u001b[1;33m\u001b[0m\u001b[0m\n\u001b[1;32m      5\u001b[0m \u001b[0mprint\u001b[0m\u001b[1;33m(\u001b[0m\u001b[0mdf_can\u001b[0m\u001b[1;33m.\u001b[0m\u001b[0miloc\u001b[0m\u001b[1;33m[\u001b[0m\u001b[1;36m87\u001b[0m\u001b[1;33m]\u001b[0m\u001b[1;33m)\u001b[0m\u001b[1;33m\u001b[0m\u001b[0m\n",
      "\u001b[0;32mC:\\Users\\andidewa\\Anaconda3\\lib\\site-packages\\pandas\\core\\indexing.py\u001b[0m in \u001b[0;36m__getitem__\u001b[0;34m(self, key)\u001b[0m\n\u001b[1;32m   1294\u001b[0m             \u001b[1;32mreturn\u001b[0m \u001b[0mself\u001b[0m\u001b[1;33m.\u001b[0m\u001b[0m_getitem_tuple\u001b[0m\u001b[1;33m(\u001b[0m\u001b[0mkey\u001b[0m\u001b[1;33m)\u001b[0m\u001b[1;33m\u001b[0m\u001b[0m\n\u001b[1;32m   1295\u001b[0m         \u001b[1;32melse\u001b[0m\u001b[1;33m:\u001b[0m\u001b[1;33m\u001b[0m\u001b[0m\n\u001b[0;32m-> 1296\u001b[0;31m             \u001b[1;32mreturn\u001b[0m \u001b[0mself\u001b[0m\u001b[1;33m.\u001b[0m\u001b[0m_getitem_axis\u001b[0m\u001b[1;33m(\u001b[0m\u001b[0mkey\u001b[0m\u001b[1;33m,\u001b[0m \u001b[0maxis\u001b[0m\u001b[1;33m=\u001b[0m\u001b[1;36m0\u001b[0m\u001b[1;33m)\u001b[0m\u001b[1;33m\u001b[0m\u001b[0m\n\u001b[0m\u001b[1;32m   1297\u001b[0m \u001b[1;33m\u001b[0m\u001b[0m\n\u001b[1;32m   1298\u001b[0m     \u001b[1;32mdef\u001b[0m \u001b[0m_getitem_axis\u001b[0m\u001b[1;33m(\u001b[0m\u001b[0mself\u001b[0m\u001b[1;33m,\u001b[0m \u001b[0mkey\u001b[0m\u001b[1;33m,\u001b[0m \u001b[0maxis\u001b[0m\u001b[1;33m=\u001b[0m\u001b[1;36m0\u001b[0m\u001b[1;33m)\u001b[0m\u001b[1;33m:\u001b[0m\u001b[1;33m\u001b[0m\u001b[0m\n",
      "\u001b[0;32mC:\\Users\\andidewa\\Anaconda3\\lib\\site-packages\\pandas\\core\\indexing.py\u001b[0m in \u001b[0;36m_getitem_axis\u001b[0;34m(self, key, axis)\u001b[0m\n\u001b[1;32m   1464\u001b[0m \u001b[1;33m\u001b[0m\u001b[0m\n\u001b[1;32m   1465\u001b[0m         \u001b[1;31m# fall thru to straight lookup\u001b[0m\u001b[1;33m\u001b[0m\u001b[1;33m\u001b[0m\u001b[0m\n\u001b[0;32m-> 1466\u001b[0;31m         \u001b[0mself\u001b[0m\u001b[1;33m.\u001b[0m\u001b[0m_has_valid_type\u001b[0m\u001b[1;33m(\u001b[0m\u001b[0mkey\u001b[0m\u001b[1;33m,\u001b[0m \u001b[0maxis\u001b[0m\u001b[1;33m)\u001b[0m\u001b[1;33m\u001b[0m\u001b[0m\n\u001b[0m\u001b[1;32m   1467\u001b[0m         \u001b[1;32mreturn\u001b[0m \u001b[0mself\u001b[0m\u001b[1;33m.\u001b[0m\u001b[0m_get_label\u001b[0m\u001b[1;33m(\u001b[0m\u001b[0mkey\u001b[0m\u001b[1;33m,\u001b[0m \u001b[0maxis\u001b[0m\u001b[1;33m=\u001b[0m\u001b[0maxis\u001b[0m\u001b[1;33m)\u001b[0m\u001b[1;33m\u001b[0m\u001b[0m\n\u001b[1;32m   1468\u001b[0m \u001b[1;33m\u001b[0m\u001b[0m\n",
      "\u001b[0;32mC:\\Users\\andidewa\\Anaconda3\\lib\\site-packages\\pandas\\core\\indexing.py\u001b[0m in \u001b[0;36m_has_valid_type\u001b[0;34m(self, key, axis)\u001b[0m\n\u001b[1;32m   1401\u001b[0m                 \u001b[1;32mraise\u001b[0m\u001b[1;33m\u001b[0m\u001b[0m\n\u001b[1;32m   1402\u001b[0m             \u001b[1;32mexcept\u001b[0m\u001b[1;33m:\u001b[0m\u001b[1;33m\u001b[0m\u001b[0m\n\u001b[0;32m-> 1403\u001b[0;31m                 \u001b[0merror\u001b[0m\u001b[1;33m(\u001b[0m\u001b[1;33m)\u001b[0m\u001b[1;33m\u001b[0m\u001b[0m\n\u001b[0m\u001b[1;32m   1404\u001b[0m \u001b[1;33m\u001b[0m\u001b[0m\n\u001b[1;32m   1405\u001b[0m         \u001b[1;32mreturn\u001b[0m \u001b[1;32mTrue\u001b[0m\u001b[1;33m\u001b[0m\u001b[0m\n",
      "\u001b[0;32mC:\\Users\\andidewa\\Anaconda3\\lib\\site-packages\\pandas\\core\\indexing.py\u001b[0m in \u001b[0;36merror\u001b[0;34m()\u001b[0m\n\u001b[1;32m   1388\u001b[0m                                     \"key\")\n\u001b[1;32m   1389\u001b[0m                 raise KeyError(\"the label [%s] is not in the [%s]\" %\n\u001b[0;32m-> 1390\u001b[0;31m                                (key, self.obj._get_axis_name(axis)))\n\u001b[0m\u001b[1;32m   1391\u001b[0m \u001b[1;33m\u001b[0m\u001b[0m\n\u001b[1;32m   1392\u001b[0m             \u001b[1;32mtry\u001b[0m\u001b[1;33m:\u001b[0m\u001b[1;33m\u001b[0m\u001b[0m\n",
      "\u001b[0;31mKeyError\u001b[0m: 'the label [Japan] is not in the [index]'"
     ]
    }
   ],
   "source": [
    "# 1. the full row data (all columns)\n",
    "print(df_can.loc['Japan'])\n",
    "\n",
    "# alternate methods\n",
    "print(df_can.iloc[87])\n",
    "print(df_can[df_can.index == 'Japan'].T.squeeze())"
   ]
  },
  {
   "cell_type": "code",
   "execution_count": null,
   "metadata": {
    "button": false,
    "colab": {
     "base_uri": "https://localhost:8080/",
     "height": 0
    },
    "colab_type": "code",
    "collapsed": false,
    "deletable": true,
    "executionInfo": {
     "elapsed": 3709,
     "status": "ok",
     "timestamp": 1563333026739,
     "user": {
      "displayName": "A.M Dirham Dewantara",
      "photoUrl": "https://lh5.googleusercontent.com/-WTvjmG5tB8E/AAAAAAAAAAI/AAAAAAAAAPs/wjM4C_zLOm8/s64/photo.jpg",
      "userId": "02029333175577307706"
     },
     "user_tz": -420
    },
    "id": "KD5BInC_p6cz",
    "new_sheet": false,
    "outputId": "472a344c-bb10-4f27-f6c9-6922203ac825",
    "run_control": {
     "read_only": false
    },
    "scrolled": true
   },
   "outputs": [],
   "source": [
    "# 2. for year 2013\n",
    "print(df_can.loc['Japan', 2013])\n",
    "\n",
    "# alternate method\n",
    "print(df_can.iloc[87, 36]) # year 2013 is the last column, with a positional index of 36"
   ]
  },
  {
   "cell_type": "code",
   "execution_count": null,
   "metadata": {
    "button": false,
    "colab": {
     "base_uri": "https://localhost:8080/",
     "height": 0
    },
    "colab_type": "code",
    "collapsed": false,
    "deletable": true,
    "executionInfo": {
     "elapsed": 3698,
     "status": "ok",
     "timestamp": 1563333026741,
     "user": {
      "displayName": "A.M Dirham Dewantara",
      "photoUrl": "https://lh5.googleusercontent.com/-WTvjmG5tB8E/AAAAAAAAAAI/AAAAAAAAAPs/wjM4C_zLOm8/s64/photo.jpg",
      "userId": "02029333175577307706"
     },
     "user_tz": -420
    },
    "id": "7OE5ZNhgp6c4",
    "new_sheet": false,
    "outputId": "706f76e2-67d3-4276-bed2-155cb98bc160",
    "run_control": {
     "read_only": false
    }
   },
   "outputs": [],
   "source": [
    "# 3. for years 1980 to 1985\n",
    "print(df_can.loc['Japan', [1980, 1981, 1982, 1983, 1984, 1984]])\n",
    "print(df_can.iloc[87, [3, 4, 5, 6, 7, 8]])"
   ]
  },
  {
   "cell_type": "markdown",
   "metadata": {
    "button": false,
    "colab_type": "text",
    "deletable": true,
    "id": "Wozp-QCjp6c7",
    "new_sheet": false,
    "run_control": {
     "read_only": false
    }
   },
   "source": [
    "Column names that are integers (such as the years) might introduce some confusion. For example, when we are referencing the year 2013, one might confuse that when the 2013th positional index. \n",
    "\n",
    "To avoid this ambuigity, let's convert the column names into strings: '1980' to '2013'."
   ]
  },
  {
   "cell_type": "code",
   "execution_count": null,
   "metadata": {
    "button": false,
    "colab": {},
    "colab_type": "code",
    "collapsed": true,
    "deletable": true,
    "id": "IQLC2VcTp6c7",
    "new_sheet": false,
    "run_control": {
     "read_only": false
    },
    "scrolled": false
   },
   "outputs": [],
   "source": [
    "df_can.columns = list(map(str, df_can.columns))\n",
    "# [print (type(x)) for x in df_can.columns.values] #<-- uncomment to check type of column headers"
   ]
  },
  {
   "cell_type": "markdown",
   "metadata": {
    "button": false,
    "colab_type": "text",
    "deletable": true,
    "id": "Adf5mEQBp6c9",
    "new_sheet": false,
    "run_control": {
     "read_only": false
    }
   },
   "source": [
    "Since we converted the years to string, let's declare a variable that will allow us to easily call upon the full range of years:"
   ]
  },
  {
   "cell_type": "code",
   "execution_count": null,
   "metadata": {
    "button": false,
    "colab": {
     "base_uri": "https://localhost:8080/",
     "height": 0
    },
    "colab_type": "code",
    "collapsed": false,
    "deletable": true,
    "executionInfo": {
     "elapsed": 3692,
     "status": "ok",
     "timestamp": 1563333026751,
     "user": {
      "displayName": "A.M Dirham Dewantara",
      "photoUrl": "https://lh5.googleusercontent.com/-WTvjmG5tB8E/AAAAAAAAAAI/AAAAAAAAAPs/wjM4C_zLOm8/s64/photo.jpg",
      "userId": "02029333175577307706"
     },
     "user_tz": -420
    },
    "id": "nxL7Mcsap6c-",
    "new_sheet": false,
    "outputId": "9347629d-02d4-4395-b6d7-6973a2716692",
    "run_control": {
     "read_only": false
    },
    "scrolled": false
   },
   "outputs": [],
   "source": [
    "# useful for plotting later on\n",
    "years = list(map(str, range(1980, 2014)))\n",
    "years"
   ]
  },
  {
   "cell_type": "markdown",
   "metadata": {
    "button": false,
    "colab_type": "text",
    "deletable": true,
    "id": "RAfjU3bPp6dC",
    "new_sheet": false,
    "run_control": {
     "read_only": false
    }
   },
   "source": [
    "### Filtering based on a criteria\n",
    "To filter the dataframe based on a condition, we simply pass the condition as a boolean vector. \n",
    "\n",
    "For example, Let's filter the dataframe to show the data on Asian countries (AreaName = Asia)."
   ]
  },
  {
   "cell_type": "code",
   "execution_count": null,
   "metadata": {
    "button": false,
    "colab": {
     "base_uri": "https://localhost:8080/",
     "height": 0
    },
    "colab_type": "code",
    "collapsed": false,
    "deletable": true,
    "executionInfo": {
     "elapsed": 3679,
     "status": "ok",
     "timestamp": 1563333026755,
     "user": {
      "displayName": "A.M Dirham Dewantara",
      "photoUrl": "https://lh5.googleusercontent.com/-WTvjmG5tB8E/AAAAAAAAAAI/AAAAAAAAAPs/wjM4C_zLOm8/s64/photo.jpg",
      "userId": "02029333175577307706"
     },
     "user_tz": -420
    },
    "id": "wY9T6PISp6dD",
    "new_sheet": false,
    "outputId": "0ad9fb20-9587-458d-bb4e-c6c7d26943b5",
    "run_control": {
     "read_only": false
    },
    "scrolled": true
   },
   "outputs": [],
   "source": [
    "# 1. create the condition boolean series\n",
    "condition = df_can['Continent'] == 'Asia'\n",
    "print(condition)"
   ]
  },
  {
   "cell_type": "code",
   "execution_count": null,
   "metadata": {
    "button": false,
    "colab": {
     "base_uri": "https://localhost:8080/",
     "height": 0
    },
    "colab_type": "code",
    "collapsed": false,
    "deletable": true,
    "executionInfo": {
     "elapsed": 3668,
     "status": "ok",
     "timestamp": 1563333026758,
     "user": {
      "displayName": "A.M Dirham Dewantara",
      "photoUrl": "https://lh5.googleusercontent.com/-WTvjmG5tB8E/AAAAAAAAAAI/AAAAAAAAAPs/wjM4C_zLOm8/s64/photo.jpg",
      "userId": "02029333175577307706"
     },
     "user_tz": -420
    },
    "id": "AbfPKoU_p6dG",
    "new_sheet": false,
    "outputId": "949141ad-4b94-4290-fbc9-0c9637a32605",
    "run_control": {
     "read_only": false
    }
   },
   "outputs": [],
   "source": [
    "# 2. pass this condition into the dataFrame\n",
    "df_can[condition]"
   ]
  },
  {
   "cell_type": "code",
   "execution_count": null,
   "metadata": {
    "button": false,
    "colab": {
     "base_uri": "https://localhost:8080/",
     "height": 0
    },
    "colab_type": "code",
    "collapsed": false,
    "deletable": true,
    "executionInfo": {
     "elapsed": 3658,
     "status": "ok",
     "timestamp": 1563333026760,
     "user": {
      "displayName": "A.M Dirham Dewantara",
      "photoUrl": "https://lh5.googleusercontent.com/-WTvjmG5tB8E/AAAAAAAAAAI/AAAAAAAAAPs/wjM4C_zLOm8/s64/photo.jpg",
      "userId": "02029333175577307706"
     },
     "user_tz": -420
    },
    "id": "NuVCgLs_p6dI",
    "new_sheet": false,
    "outputId": "4097b6a3-4eec-42b2-80e8-f5ea157f4fa8",
    "run_control": {
     "read_only": false
    }
   },
   "outputs": [],
   "source": [
    "# we can pass mutliple criteria in the same line. \n",
    "# let's filter for AreaNAme = Asia and RegName = Southern Asia\n",
    "\n",
    "df_can[(df_can['Continent']=='Asia') & (df_can['Region']=='Southern Asia')]\n",
    "\n",
    "# note: When using 'and' and 'or' operators, pandas requires we use '&' and '|' instead of 'and' and 'or'\n",
    "# don't forget to enclose the two conditions in parentheses"
   ]
  },
  {
   "cell_type": "markdown",
   "metadata": {
    "button": false,
    "colab_type": "text",
    "deletable": true,
    "id": "u8DzmTBjp6dK",
    "new_sheet": false,
    "run_control": {
     "read_only": false
    }
   },
   "source": [
    "Before we proceed: let's review the changes we have made to our dataframe."
   ]
  },
  {
   "cell_type": "code",
   "execution_count": null,
   "metadata": {
    "button": false,
    "colab": {
     "base_uri": "https://localhost:8080/",
     "height": 0
    },
    "colab_type": "code",
    "collapsed": false,
    "deletable": true,
    "executionInfo": {
     "elapsed": 3646,
     "status": "ok",
     "timestamp": 1563333026762,
     "user": {
      "displayName": "A.M Dirham Dewantara",
      "photoUrl": "https://lh5.googleusercontent.com/-WTvjmG5tB8E/AAAAAAAAAAI/AAAAAAAAAPs/wjM4C_zLOm8/s64/photo.jpg",
      "userId": "02029333175577307706"
     },
     "user_tz": -420
    },
    "id": "qcKIw79Mp6dL",
    "new_sheet": false,
    "outputId": "818d30dc-54cc-4733-e572-761290b02a89",
    "run_control": {
     "read_only": false
    },
    "scrolled": true
   },
   "outputs": [],
   "source": [
    "print('data dimensions:', df_can.shape)\n",
    "print(df_can.columns)\n",
    "df_can.head(2)"
   ]
  },
  {
   "cell_type": "markdown",
   "metadata": {
    "button": false,
    "colab_type": "text",
    "deletable": true,
    "id": "enl0boKap6dN",
    "new_sheet": false,
    "run_control": {
     "read_only": false
    }
   },
   "source": [
    "---\n",
    "# Visualizing Data using Matplotlib<a id=\"8\"></a>"
   ]
  },
  {
   "cell_type": "markdown",
   "metadata": {
    "colab_type": "text",
    "id": "HYHduVNSrXL9"
   },
   "source": []
  },
  {
   "cell_type": "markdown",
   "metadata": {
    "button": false,
    "colab_type": "text",
    "deletable": true,
    "id": "RzzG5aqEp6dO",
    "new_sheet": false,
    "run_control": {
     "read_only": false
    }
   },
   "source": [
    "## Matplotlib: Standard Python Visualization Library<a id=\"10\"></a>\n",
    "\n",
    "The primary plotting library we will explore in the course is [Matplotlib](http://matplotlib.org/).  As mentioned on their website: \n",
    ">Matplotlib is a Python 2D plotting library which produces publication quality figures in a variety of hardcopy formats and interactive environments across platforms. Matplotlib can be used in Python scripts, the Python and IPython shell, the jupyter notebook, web application servers, and four graphical user interface toolkits.\n",
    "\n",
    "If you are aspiring to create impactful visualization with python, Matplotlib is an essential tool to have at your disposal."
   ]
  },
  {
   "cell_type": "markdown",
   "metadata": {
    "button": false,
    "colab_type": "text",
    "deletable": true,
    "id": "Xw9RewJWp6dP",
    "new_sheet": false,
    "run_control": {
     "read_only": false
    }
   },
   "source": [
    "### Matplotlib.Pyplot\n",
    "\n",
    "One of the core aspects of Matplotlib is `matplotlib.pyplot`. It is Matplotlib's scripting layer which we studied in details in the videos about Matplotlib. Recall that it is a collection of command style functions that make Matplotlib work like MATLAB. Each `pyplot` function makes some change to a figure: e.g., creates a figure, creates a plotting area in a figure, plots some lines in a plotting area, decorates the plot with labels, etc. In this lab, we will work with the scripting layer to learn how to generate line plots. In future labs, we will get to work with the Artist layer as well to experiment first hand how it differs from the scripting layer. \n"
   ]
  },
  {
   "cell_type": "markdown",
   "metadata": {
    "button": false,
    "colab_type": "text",
    "deletable": true,
    "id": "RTWNFBtdp6dQ",
    "new_sheet": false,
    "run_control": {
     "read_only": false
    }
   },
   "source": [
    "Let's start by importing `Matplotlib` and `Matplotlib.pyplot` as follows:"
   ]
  },
  {
   "cell_type": "code",
   "execution_count": null,
   "metadata": {
    "button": false,
    "colab": {},
    "colab_type": "code",
    "collapsed": true,
    "deletable": true,
    "id": "giMZqKnEp6dR",
    "new_sheet": false,
    "run_control": {
     "read_only": false
    },
    "scrolled": false
   },
   "outputs": [],
   "source": [
    "# we are using the inline backend\n",
    "%matplotlib inline \n",
    "\n",
    "import matplotlib as mpl\n",
    "import matplotlib.pyplot as plt"
   ]
  },
  {
   "cell_type": "markdown",
   "metadata": {
    "button": false,
    "colab_type": "text",
    "deletable": true,
    "id": "urCFQcrtp6dV",
    "new_sheet": false,
    "run_control": {
     "read_only": false
    }
   },
   "source": [
    "*optional: check if Matplotlib is loaded."
   ]
  },
  {
   "cell_type": "code",
   "execution_count": null,
   "metadata": {
    "button": false,
    "colab": {
     "base_uri": "https://localhost:8080/",
     "height": 0
    },
    "colab_type": "code",
    "collapsed": false,
    "deletable": true,
    "executionInfo": {
     "elapsed": 4326,
     "status": "ok",
     "timestamp": 1563333027458,
     "user": {
      "displayName": "A.M Dirham Dewantara",
      "photoUrl": "https://lh5.googleusercontent.com/-WTvjmG5tB8E/AAAAAAAAAAI/AAAAAAAAAPs/wjM4C_zLOm8/s64/photo.jpg",
      "userId": "02029333175577307706"
     },
     "user_tz": -420
    },
    "id": "S8nvnA5mp6dW",
    "new_sheet": false,
    "outputId": "437c0fc8-a3ae-436e-e5ed-126cacbfbe51",
    "run_control": {
     "read_only": false
    },
    "scrolled": false
   },
   "outputs": [],
   "source": [
    "print ('Matplotlib version: ', mpl.__version__) # >= 2.0.0"
   ]
  },
  {
   "cell_type": "markdown",
   "metadata": {
    "button": false,
    "colab_type": "text",
    "deletable": true,
    "id": "zbVgOSq8p6dY",
    "new_sheet": false,
    "run_control": {
     "read_only": false
    }
   },
   "source": [
    "*optional: apply a style to Matplotlib."
   ]
  },
  {
   "cell_type": "code",
   "execution_count": null,
   "metadata": {
    "button": false,
    "colab": {
     "base_uri": "https://localhost:8080/",
     "height": 0
    },
    "colab_type": "code",
    "collapsed": false,
    "deletable": true,
    "executionInfo": {
     "elapsed": 4312,
     "status": "ok",
     "timestamp": 1563333027460,
     "user": {
      "displayName": "A.M Dirham Dewantara",
      "photoUrl": "https://lh5.googleusercontent.com/-WTvjmG5tB8E/AAAAAAAAAAI/AAAAAAAAAPs/wjM4C_zLOm8/s64/photo.jpg",
      "userId": "02029333175577307706"
     },
     "user_tz": -420
    },
    "id": "1f3P1HAPp6dZ",
    "new_sheet": false,
    "outputId": "a3d62d79-c56d-439c-c50b-bd4931309051",
    "run_control": {
     "read_only": false
    },
    "scrolled": false
   },
   "outputs": [],
   "source": [
    "print(plt.style.available)\n",
    "mpl.style.use(['ggplot']) # optional: for ggplot-like style"
   ]
  },
  {
   "cell_type": "markdown",
   "metadata": {
    "button": false,
    "colab_type": "text",
    "deletable": true,
    "id": "npoUbJUHp6dc",
    "new_sheet": false,
    "run_control": {
     "read_only": false
    }
   },
   "source": [
    "### Plotting in *pandas*\n",
    "\n",
    "Fortunately, pandas has a built-in implementation of Matplotlib that we can use. Plotting in *pandas* is as simple as appending a `.plot()` method to a series or dataframe.\n",
    "\n",
    "Documentation:\n",
    "- [Plotting with Series](http://pandas.pydata.org/pandas-docs/stable/api.html#plotting)<br>\n",
    "- [Plotting with Dataframes](http://pandas.pydata.org/pandas-docs/stable/api.html#api-dataframe-plotting)"
   ]
  },
  {
   "cell_type": "markdown",
   "metadata": {
    "button": false,
    "colab_type": "text",
    "deletable": true,
    "id": "cKsO1wCqp6dd",
    "new_sheet": false,
    "run_control": {
     "read_only": false
    }
   },
   "source": [
    "# Line Pots (Series/Dataframe) <a id=\"12\"></a>"
   ]
  },
  {
   "cell_type": "markdown",
   "metadata": {
    "button": false,
    "colab_type": "text",
    "deletable": true,
    "id": "nMeffzNQp6de",
    "new_sheet": false,
    "run_control": {
     "read_only": false
    }
   },
   "source": [
    "**What is a line plot and why use it?**\n",
    "\n",
    "A line chart or line plot is a type of plot which displays information as a series of data points called 'markers' connected by straight line segments. It is a basic type of chart common in many fields.\n",
    "Use line plot when you have a continuous data set. These are best suited for trend-based visualizations of data over a period of time."
   ]
  },
  {
   "cell_type": "markdown",
   "metadata": {
    "button": false,
    "colab_type": "text",
    "deletable": true,
    "id": "oPM6Tx2tp6df",
    "new_sheet": false,
    "run_control": {
     "read_only": false
    }
   },
   "source": [
    "**Let's start with a case study:**\n",
    "\n",
    "In 2010, Haiti suffered a catastrophic magnitude 7.0 earthquake. The quake caused widespread devastation and loss of life and aout three million people were affected by this natural disaster. As part of Canada's humanitarian effort, the Government of Canada stepped up its effort in accepting refugees from Haiti. We can quickly visualize this effort using a `Line` plot:\n",
    "\n",
    "**Question:** Plot a line graph of immigration from Haiti using `df.plot()`.\n"
   ]
  },
  {
   "cell_type": "markdown",
   "metadata": {
    "button": false,
    "colab_type": "text",
    "deletable": true,
    "id": "gYRYQ4ddp6dg",
    "new_sheet": false,
    "run_control": {
     "read_only": false
    }
   },
   "source": [
    "First, we will extract the data series for Haiti."
   ]
  },
  {
   "cell_type": "code",
   "execution_count": null,
   "metadata": {
    "button": false,
    "colab": {
     "base_uri": "https://localhost:8080/",
     "height": 127
    },
    "colab_type": "code",
    "collapsed": false,
    "deletable": true,
    "executionInfo": {
     "elapsed": 4295,
     "status": "ok",
     "timestamp": 1563333027463,
     "user": {
      "displayName": "A.M Dirham Dewantara",
      "photoUrl": "https://lh5.googleusercontent.com/-WTvjmG5tB8E/AAAAAAAAAAI/AAAAAAAAAPs/wjM4C_zLOm8/s64/photo.jpg",
      "userId": "02029333175577307706"
     },
     "user_tz": -420
    },
    "id": "-ilehwJ_p6dh",
    "new_sheet": false,
    "outputId": "615673b1-12b2-477d-837b-cb93bc10dc05",
    "run_control": {
     "read_only": false
    },
    "scrolled": false
   },
   "outputs": [],
   "source": [
    "haiti = df_can.loc['India', years] # passing in years 1980 - 2013 to exclude the 'total' column\n",
    "haiti.head()"
   ]
  },
  {
   "cell_type": "markdown",
   "metadata": {
    "button": false,
    "colab_type": "text",
    "deletable": true,
    "id": "ZZ2ioIAQp6dj",
    "new_sheet": false,
    "run_control": {
     "read_only": false
    }
   },
   "source": [
    "Next, we will plot a line plot by appending `.plot()` to the `haiti` dataframe."
   ]
  },
  {
   "cell_type": "code",
   "execution_count": null,
   "metadata": {
    "button": false,
    "colab": {
     "base_uri": "https://localhost:8080/",
     "height": 287
    },
    "colab_type": "code",
    "collapsed": false,
    "deletable": true,
    "executionInfo": {
     "elapsed": 4273,
     "status": "ok",
     "timestamp": 1563333027466,
     "user": {
      "displayName": "A.M Dirham Dewantara",
      "photoUrl": "https://lh5.googleusercontent.com/-WTvjmG5tB8E/AAAAAAAAAAI/AAAAAAAAAPs/wjM4C_zLOm8/s64/photo.jpg",
      "userId": "02029333175577307706"
     },
     "user_tz": -420
    },
    "id": "tDfXZNcYp6dk",
    "new_sheet": false,
    "outputId": "65e795c5-6cbb-49c9-f408-c7f913de5444",
    "run_control": {
     "read_only": false
    },
    "scrolled": false
   },
   "outputs": [],
   "source": [
    "haiti.plot()"
   ]
  },
  {
   "cell_type": "markdown",
   "metadata": {
    "button": false,
    "colab_type": "text",
    "deletable": true,
    "id": "_z-I_Xdvp6dq",
    "new_sheet": false,
    "run_control": {
     "read_only": false
    }
   },
   "source": [
    "*pandas* automatically populated the x-axis with the index values (years), and the y-axis with the column values (population). However, notice how the years were not displayed because they are of type *string*. Therefore, let's change the type of the index values to *integer* for plotting.\n",
    "\n",
    "Also, let's label the x and y axis using `plt.title()`, `plt.ylabel()`, and `plt.xlabel()` as follows:"
   ]
  },
  {
   "cell_type": "code",
   "execution_count": null,
   "metadata": {
    "button": false,
    "colab": {
     "base_uri": "https://localhost:8080/",
     "height": 299
    },
    "colab_type": "code",
    "collapsed": false,
    "deletable": true,
    "executionInfo": {
     "elapsed": 4968,
     "status": "ok",
     "timestamp": 1563333028186,
     "user": {
      "displayName": "A.M Dirham Dewantara",
      "photoUrl": "https://lh5.googleusercontent.com/-WTvjmG5tB8E/AAAAAAAAAAI/AAAAAAAAAPs/wjM4C_zLOm8/s64/photo.jpg",
      "userId": "02029333175577307706"
     },
     "user_tz": -420
    },
    "id": "qycBY5Flp6dq",
    "new_sheet": false,
    "outputId": "2c5e5e77-603e-4128-fbd6-2bbeb5ad168e",
    "run_control": {
     "read_only": false
    },
    "scrolled": true
   },
   "outputs": [],
   "source": [
    "haiti.index = haiti.index.map(int) # let's change the index values of Haiti to type integer for plotting\n",
    "haiti.plot(kind='line')\n",
    "\n",
    "plt.title('Immigration from Hailti')\n",
    "plt.ylabel('Number of immigrants')\n",
    "plt.xlabel('Years')\n",
    "\n",
    "plt.show() # need this line to show the updates made to the figure"
   ]
  },
  {
   "cell_type": "markdown",
   "metadata": {
    "button": false,
    "colab_type": "text",
    "deletable": true,
    "id": "WNrDtFn8p6du",
    "new_sheet": false,
    "run_control": {
     "read_only": false
    }
   },
   "source": [
    "We can clearly notice how number of immigrants from Haiti spiked up from 2010 as Canada stepped up its efforts to accept refugees from Haiti. Let's annotate this spike in the plot by using the `plt.text()` method."
   ]
  },
  {
   "cell_type": "code",
   "execution_count": null,
   "metadata": {
    "button": false,
    "colab": {
     "base_uri": "https://localhost:8080/",
     "height": 299
    },
    "colab_type": "code",
    "collapsed": false,
    "deletable": true,
    "executionInfo": {
     "elapsed": 4951,
     "status": "ok",
     "timestamp": 1563333028194,
     "user": {
      "displayName": "A.M Dirham Dewantara",
      "photoUrl": "https://lh5.googleusercontent.com/-WTvjmG5tB8E/AAAAAAAAAAI/AAAAAAAAAPs/wjM4C_zLOm8/s64/photo.jpg",
      "userId": "02029333175577307706"
     },
     "user_tz": -420
    },
    "id": "vBztRzvgp6dw",
    "new_sheet": false,
    "outputId": "3b59d62f-3aac-4a2a-f50f-d53a7b6f7dd0",
    "run_control": {
     "read_only": false
    }
   },
   "outputs": [],
   "source": [
    "haiti.plot(kind='line')\n",
    "\n",
    "plt.title('Immigration from Haiti')\n",
    "plt.ylabel('Number of Immigrants')\n",
    "plt.xlabel('Years')\n",
    "\n",
    "# annotate the 2010 Earthquake. \n",
    "# syntax: plt.text(x, y, label)\n",
    "plt.text(2000, 6000, '2010 Earthquake') # see note below\n",
    "\n",
    "plt.show() "
   ]
  },
  {
   "cell_type": "code",
   "execution_count": null,
   "metadata": {
    "colab": {},
    "colab_type": "code",
    "collapsed": true,
    "id": "BzgGlZwR3NKZ"
   },
   "outputs": [],
   "source": []
  },
  {
   "cell_type": "markdown",
   "metadata": {
    "button": false,
    "colab_type": "text",
    "deletable": true,
    "id": "HcTJHoP9p6d3",
    "new_sheet": false,
    "run_control": {
     "read_only": false
    }
   },
   "source": [
    "With just a few lines of code, you were able to quickly identify and visualize the spike in immigration!\n",
    "\n",
    "Quick note on x and y values in `plt.text(x, y, label)`:\n",
    "    \n",
    "     Since the x-axis (years) is type 'integer', we specified x as a year. The y axis (number of immigrants) is type 'integer', so we can just specify the value y = 6000.\n",
    "    \n",
    "```python\n",
    "    plt.text(2000, 6000, '2010 Earthquake') # years stored as type int\n",
    "```\n",
    "    If the years were stored as type 'string', we would need to specify x as the index position of the year. Eg 20th index is year 2000 since it is the 20th year with a base year of 1980.\n",
    "```python\n",
    "    plt.text(20, 6000, '2010 Earthquake') # years stored as type int\n",
    "```\n",
    "    We will cover advanced annotation methods in later modules."
   ]
  },
  {
   "cell_type": "markdown",
   "metadata": {
    "button": false,
    "colab_type": "text",
    "deletable": true,
    "id": "BKt5mxeap6d4",
    "new_sheet": false,
    "run_control": {
     "read_only": false
    }
   },
   "source": [
    "We can easily add more countries to line plot to make meaningful comparisons immigration from different countries. \n",
    "\n",
    "**Question:** Let's compare the number of immigrants from India and China from 1980 to 2013.\n"
   ]
  },
  {
   "cell_type": "markdown",
   "metadata": {
    "button": false,
    "colab_type": "text",
    "deletable": true,
    "id": "8fSH2TpUp6d5",
    "new_sheet": false,
    "run_control": {
     "read_only": false
    }
   },
   "source": [
    "Step 1: Get the data set for China and India, and display dataframe."
   ]
  },
  {
   "cell_type": "code",
   "execution_count": null,
   "metadata": {
    "button": false,
    "colab": {
     "base_uri": "https://localhost:8080/",
     "height": 132
    },
    "colab_type": "code",
    "collapsed": false,
    "deletable": true,
    "executionInfo": {
     "elapsed": 4934,
     "status": "ok",
     "timestamp": 1563333028214,
     "user": {
      "displayName": "A.M Dirham Dewantara",
      "photoUrl": "https://lh5.googleusercontent.com/-WTvjmG5tB8E/AAAAAAAAAAI/AAAAAAAAAPs/wjM4C_zLOm8/s64/photo.jpg",
      "userId": "02029333175577307706"
     },
     "user_tz": -420
    },
    "id": "oN4S30_Yp6d6",
    "new_sheet": false,
    "outputId": "dcd52a64-1df0-474c-c6b2-1eb0f94fc28e",
    "run_control": {
     "read_only": false
    },
    "scrolled": true
   },
   "outputs": [],
   "source": [
    "df_cinaindia = df_can.loc[['India', 'China'], years]\n",
    "df_cinaindia.head()"
   ]
  },
  {
   "cell_type": "markdown",
   "metadata": {
    "button": false,
    "colab_type": "text",
    "deletable": true,
    "id": "KmVKML3ap6d9",
    "new_sheet": false,
    "run_control": {
     "read_only": false
    }
   },
   "source": [
    "Double-click __here__ for the solution.\n",
    "<!-- The correct answer is:\n",
    "df_CI = df_can.loc[['India', 'China'], years]\n",
    "df_CI.head()\n",
    "-->"
   ]
  },
  {
   "cell_type": "markdown",
   "metadata": {
    "button": false,
    "colab_type": "text",
    "deletable": true,
    "id": "u-fOGhBjp6d-",
    "new_sheet": false,
    "run_control": {
     "read_only": false
    }
   },
   "source": [
    "Step 2: Plot graph. We will explicitly specify line plot by passing in `kind` parameter to `plot()`."
   ]
  },
  {
   "cell_type": "code",
   "execution_count": null,
   "metadata": {
    "button": false,
    "colab": {
     "base_uri": "https://localhost:8080/",
     "height": 570
    },
    "colab_type": "code",
    "collapsed": false,
    "deletable": true,
    "executionInfo": {
     "elapsed": 5597,
     "status": "ok",
     "timestamp": 1563333028901,
     "user": {
      "displayName": "A.M Dirham Dewantara",
      "photoUrl": "https://lh5.googleusercontent.com/-WTvjmG5tB8E/AAAAAAAAAAI/AAAAAAAAAPs/wjM4C_zLOm8/s64/photo.jpg",
      "userId": "02029333175577307706"
     },
     "user_tz": -420
    },
    "id": "4MCfVK_Yp6eA",
    "new_sheet": false,
    "outputId": "d587ad48-bfae-462d-d5ae-c29ed8a867b9",
    "run_control": {
     "read_only": false
    },
    "scrolled": true
   },
   "outputs": [],
   "source": [
    "df_cinaindia.plot(kind='line')\n"
   ]
  },
  {
   "cell_type": "markdown",
   "metadata": {
    "button": false,
    "colab_type": "text",
    "deletable": true,
    "id": "FjjOc-Gfp6eC",
    "new_sheet": false,
    "run_control": {
     "read_only": false
    }
   },
   "source": [
    "Double-click __here__ for the solution.\n",
    "<!-- The correct answer is:\n",
    "df_CI.plot(kind='line')\n",
    "-->"
   ]
  },
  {
   "cell_type": "markdown",
   "metadata": {
    "button": false,
    "colab_type": "text",
    "deletable": true,
    "id": "0OF2Xm5fp6eD",
    "new_sheet": false,
    "run_control": {
     "read_only": false
    }
   },
   "source": [
    "That doesn't look right...\n",
    "\n",
    "Recall that *pandas* plots the indices on the x-axis and the columns as individual lines on the y-axis. Since `df_CI` is a dataframe with the `country` as the index and `years` as the columns, we must first transpose the dataframe using `transpose()` method to swap the row and columns."
   ]
  },
  {
   "cell_type": "code",
   "execution_count": null,
   "metadata": {
    "button": false,
    "colab": {
     "base_uri": "https://localhost:8080/",
     "height": 206
    },
    "colab_type": "code",
    "collapsed": false,
    "deletable": true,
    "executionInfo": {
     "elapsed": 5578,
     "status": "ok",
     "timestamp": 1563333028905,
     "user": {
      "displayName": "A.M Dirham Dewantara",
      "photoUrl": "https://lh5.googleusercontent.com/-WTvjmG5tB8E/AAAAAAAAAAI/AAAAAAAAAPs/wjM4C_zLOm8/s64/photo.jpg",
      "userId": "02029333175577307706"
     },
     "user_tz": -420
    },
    "id": "iMI3BrHHp6eE",
    "new_sheet": false,
    "outputId": "c505f022-20cb-4cb9-ef11-7828681efba6",
    "run_control": {
     "read_only": false
    }
   },
   "outputs": [],
   "source": [
    "df_cinaindia = df_cinaindia.transpose()\n",
    "df_cinaindia.head()"
   ]
  },
  {
   "cell_type": "markdown",
   "metadata": {
    "button": false,
    "colab_type": "text",
    "deletable": true,
    "id": "w72_h6Qpp6eG",
    "new_sheet": false,
    "run_control": {
     "read_only": false
    }
   },
   "source": [
    "*pandas* will auomatically graph the two countries on the same graph. Go ahead and plot the new transposed dataframe. Make sure to add a title to the plot and label the axes."
   ]
  },
  {
   "cell_type": "code",
   "execution_count": null,
   "metadata": {
    "button": false,
    "colab": {
     "base_uri": "https://localhost:8080/",
     "height": 299
    },
    "colab_type": "code",
    "collapsed": false,
    "deletable": true,
    "executionInfo": {
     "elapsed": 1010,
     "status": "ok",
     "timestamp": 1563333099391,
     "user": {
      "displayName": "A.M Dirham Dewantara",
      "photoUrl": "https://lh5.googleusercontent.com/-WTvjmG5tB8E/AAAAAAAAAAI/AAAAAAAAAPs/wjM4C_zLOm8/s64/photo.jpg",
      "userId": "02029333175577307706"
     },
     "user_tz": -420
    },
    "id": "rlRTvbLTp6eH",
    "new_sheet": false,
    "outputId": "8031508f-de46-44be-b8bd-f89d142cb1b1",
    "run_control": {
     "read_only": false
    }
   },
   "outputs": [],
   "source": [
    "df_cinaindia.index = df_cinaindia.index.map(int)\n",
    "df_cinaindia.plot(kind='line')\n",
    "\n",
    "plt.title('Imigran Cina dan India')\n",
    "plt.ylabel('Jumlah Imigran')\n",
    "plt.xlabel('Tahun')\n",
    "plt.show()"
   ]
  },
  {
   "cell_type": "markdown",
   "metadata": {
    "button": false,
    "colab_type": "text",
    "deletable": true,
    "id": "sQg-ksHip6eM",
    "new_sheet": false,
    "run_control": {
     "read_only": false
    }
   },
   "source": [
    "Double-click __here__ for the solution.\n",
    "<!-- The correct answer is:\n",
    "df_CI.index = df_CI.index.map(int) # let's change the index values of df_CI to type integer for plotting\n",
    "df_CI.plot(kind='line')\n",
    "-->\n",
    "\n",
    "<!--\n",
    "plt.title('Immigrants from China and India')\n",
    "plt.ylabel('Number of Immigrants')\n",
    "plt.xlabel('Years')\n",
    "-->\n",
    "\n",
    "<!--\n",
    "plt.show()\n",
    "--> "
   ]
  },
  {
   "cell_type": "markdown",
   "metadata": {
    "button": false,
    "colab_type": "text",
    "deletable": true,
    "id": "jv11IP2Mp6eN",
    "new_sheet": false,
    "run_control": {
     "read_only": false
    }
   },
   "source": [
    "From the above plot, we can observe that the China and India have very similar immigration trends through the years. "
   ]
  },
  {
   "cell_type": "markdown",
   "metadata": {
    "button": false,
    "colab_type": "text",
    "deletable": true,
    "id": "D8OlvWIQp6eN",
    "new_sheet": false,
    "run_control": {
     "read_only": false
    }
   },
   "source": [
    "*Note*: How come we didn't need to transpose Haiti's dataframe before plotting (like we did for df_CI)?\n",
    "\n",
    "That's because `haiti` is a series as opposed to a dataframe, and has the years as its indices as shown below. \n",
    "```python\n",
    "print(type(haiti))\n",
    "print(haiti.head(5))\n",
    "```\n",
    ">class 'pandas.core.series.Series' <br>\n",
    ">1980    1666 <br>\n",
    ">1981    3692 <br>\n",
    ">1982    3498 <br>\n",
    ">1983    2860 <br>\n",
    ">1984    1418 <br>\n",
    ">Name: Haiti, dtype: int64 <br>"
   ]
  },
  {
   "cell_type": "markdown",
   "metadata": {
    "button": false,
    "colab_type": "text",
    "deletable": true,
    "id": "qWYZFxZvp6eO",
    "new_sheet": false,
    "run_control": {
     "read_only": false
    }
   },
   "source": [
    "Line plot is a handy tool to display several dependent variables against one independent variable. However, it is recommended that no more than 5-10 lines on a single graph; any more than that and it becomes difficult to interpret."
   ]
  },
  {
   "cell_type": "markdown",
   "metadata": {
    "button": false,
    "colab_type": "text",
    "deletable": true,
    "id": "UuuBI9MQp6eP",
    "new_sheet": false,
    "run_control": {
     "read_only": false
    }
   },
   "source": [
    "**Question:** Compare the trend of top 5 countries that contributed the most to immigration to Canada."
   ]
  },
  {
   "cell_type": "code",
   "execution_count": null,
   "metadata": {
    "button": false,
    "colab": {
     "base_uri": "https://localhost:8080/",
     "height": 1000
    },
    "colab_type": "code",
    "collapsed": false,
    "deletable": true,
    "executionInfo": {
     "elapsed": 1588,
     "status": "ok",
     "timestamp": 1563333633176,
     "user": {
      "displayName": "A.M Dirham Dewantara",
      "photoUrl": "https://lh5.googleusercontent.com/-WTvjmG5tB8E/AAAAAAAAAAI/AAAAAAAAAPs/wjM4C_zLOm8/s64/photo.jpg",
      "userId": "02029333175577307706"
     },
     "user_tz": -420
    },
    "id": "JmnoRTmDp6eP",
    "new_sheet": false,
    "outputId": "9fd8bfc5-d2c9-479d-b939-2a2130c5cabf",
    "run_control": {
     "read_only": false
    }
   },
   "outputs": [],
   "source": [
    "df_can.sort_values(by='Total', ascending=False, axis=0, inplace=True)\n",
    "df_top = df_can.head(5)\n",
    "df_top = df_top[years].transpose() \n",
    "print(df_top)\n",
    "\n",
    "df_top.index = df_top.index.map(int)\n",
    "df_top.plot(kind='line', figsize=(14, 8))\n",
    "plt.title('Trend Imigrasi berdasarkan kota')\n",
    "plt.ylabel('Jumlah Imigran')\n",
    "plt.xlabel('Tahun')\n",
    "plt.show()"
   ]
  },
  {
   "cell_type": "code",
   "execution_count": null,
   "metadata": {
    "colab": {
     "base_uri": "https://localhost:8080/",
     "height": 1000
    },
    "colab_type": "code",
    "collapsed": false,
    "executionInfo": {
     "elapsed": 2084,
     "status": "ok",
     "timestamp": 1563333671503,
     "user": {
      "displayName": "A.M Dirham Dewantara",
      "photoUrl": "https://lh5.googleusercontent.com/-WTvjmG5tB8E/AAAAAAAAAAI/AAAAAAAAAPs/wjM4C_zLOm8/s64/photo.jpg",
      "userId": "02029333175577307706"
     },
     "user_tz": -420
    },
    "id": "0ENhegvsy8Ew",
    "outputId": "834d4e6b-ba40-4590-a84b-292a1a2526cb"
   },
   "outputs": [],
   "source": [
    "df_can.sort_values(by='Total', ascending=False, axis=0, inplace=True)\n",
    "df_top = df_can.head(5)\n",
    "df_top = df_top[years].transpose() \n",
    "print(df_top)\n",
    "\n",
    "df_top.index = df_top.index.map(int)\n",
    "df_top.plot(kind='bar', figsize=(14, 8))\n",
    "plt.title('Trend Imigrasi berdasarkan kota')\n",
    "plt.ylabel('Jumlah Imigran')\n",
    "plt.xlabel('Tahun')\n",
    "plt.show()"
   ]
  },
  {
   "cell_type": "code",
   "execution_count": null,
   "metadata": {
    "colab": {
     "base_uri": "https://localhost:8080/",
     "height": 1000
    },
    "colab_type": "code",
    "collapsed": false,
    "executionInfo": {
     "elapsed": 2019,
     "status": "ok",
     "timestamp": 1563333709489,
     "user": {
      "displayName": "A.M Dirham Dewantara",
      "photoUrl": "https://lh5.googleusercontent.com/-WTvjmG5tB8E/AAAAAAAAAAI/AAAAAAAAAPs/wjM4C_zLOm8/s64/photo.jpg",
      "userId": "02029333175577307706"
     },
     "user_tz": -420
    },
    "id": "p7hF9jZM8xwF",
    "outputId": "fc8ce0e5-00de-4202-cc0a-10ba3906945f"
   },
   "outputs": [],
   "source": [
    "df_can.sort_values(by='Total', ascending=False, axis=0, inplace=True)\n",
    "df_top = df_can.head(5)\n",
    "df_top = df_top[years].transpose() \n",
    "print(df_top)\n",
    "\n",
    "df_top.index = df_top.index.map(int)\n",
    "df_top.plot(kind='barh', figsize=(14, 8))\n",
    "plt.title('Trend Imigrasi berdasarkan kota')\n",
    "plt.ylabel('Jumlah Imigran')\n",
    "plt.xlabel('Tahun')\n",
    "plt.show()"
   ]
  },
  {
   "cell_type": "code",
   "execution_count": null,
   "metadata": {
    "colab": {
     "base_uri": "https://localhost:8080/",
     "height": 1000
    },
    "colab_type": "code",
    "collapsed": false,
    "executionInfo": {
     "elapsed": 1408,
     "status": "ok",
     "timestamp": 1563333723202,
     "user": {
      "displayName": "A.M Dirham Dewantara",
      "photoUrl": "https://lh5.googleusercontent.com/-WTvjmG5tB8E/AAAAAAAAAAI/AAAAAAAAAPs/wjM4C_zLOm8/s64/photo.jpg",
      "userId": "02029333175577307706"
     },
     "user_tz": -420
    },
    "id": "2CMTgYFW82cX",
    "outputId": "d84c40cf-2b3a-4995-f7a5-61915716eec4"
   },
   "outputs": [],
   "source": [
    "df_can.sort_values(by='Total', ascending=False, axis=0, inplace=True)\n",
    "df_top = df_can.head(5)\n",
    "df_top = df_top[years].transpose() \n",
    "print(df_top)\n",
    "\n",
    "df_top.index = df_top.index.map(int)\n",
    "df_top.plot(kind='hist', figsize=(14, 8))\n",
    "plt.title('Trend Imigrasi berdasarkan kota')\n",
    "plt.ylabel('Jumlah Imigran')\n",
    "plt.xlabel('Tahun')\n",
    "plt.show()"
   ]
  },
  {
   "cell_type": "code",
   "execution_count": null,
   "metadata": {
    "colab": {
     "base_uri": "https://localhost:8080/",
     "height": 1000
    },
    "colab_type": "code",
    "collapsed": false,
    "executionInfo": {
     "elapsed": 1413,
     "status": "ok",
     "timestamp": 1563333753430,
     "user": {
      "displayName": "A.M Dirham Dewantara",
      "photoUrl": "https://lh5.googleusercontent.com/-WTvjmG5tB8E/AAAAAAAAAAI/AAAAAAAAAPs/wjM4C_zLOm8/s64/photo.jpg",
      "userId": "02029333175577307706"
     },
     "user_tz": -420
    },
    "id": "jKgxrj4Y8xsG",
    "outputId": "7473081d-9847-41c4-fa00-f468402faf86"
   },
   "outputs": [],
   "source": [
    "df_can.sort_values(by='Total', ascending=False, axis=0, inplace=True)\n",
    "df_top = df_can.head(5)\n",
    "df_top = df_top[years].transpose() \n",
    "print(df_top)\n",
    "\n",
    "df_top.index = df_top.index.map(int)\n",
    "df_top.plot(kind='box', figsize=(14, 8))\n",
    "plt.title('Trend Imigrasi berdasarkan kota')\n",
    "plt.ylabel('Jumlah Imigran')\n",
    "plt.xlabel('Tahun')\n",
    "plt.show()"
   ]
  },
  {
   "cell_type": "code",
   "execution_count": null,
   "metadata": {
    "button": false,
    "colab_type": "text",
    "collapsed": false,
    "deletable": true,
    "id": "2ZwhVbfBp6eR",
    "new_sheet": false,
    "run_control": {
     "read_only": false
    }
   },
   "outputs": [],
   "source": [
    "Double-click __here__ for the solution.\n",
    "<!-- The correct answer is:\n",
    "\\\\ # Step 1: Get the dataset. Recall that we created a Total column that calculates the cumulative immigration by country. \\\\ We will sort on this column to get our top 5 countries using pandas sort_values() method.\n",
    "\\\\ inplace = True paramemter saves the changes to the original df_can dataframe\n",
    "df_can.sort_values(by='Total', ascending=False, axis=0, inplace=True)\n",
    "-->\n",
    "\n",
    "<!--\n",
    "# get the top 5 entries\n",
    "df_top5 = df_can.head(5)\n",
    "-->\n",
    "\n",
    "<!--\n",
    "# transpose the dataframe\n",
    "df_top5 = df_top5[years].transpose() \n",
    "-->\n",
    "\n",
    "<!--\n",
    "print(df_top5)\n",
    "-->\n",
    "\n",
    "<!--\n",
    "\\\\ # Step 2: Plot the dataframe. To make the plot more readeable, we will change the size using the `figsize` parameter.\n",
    "df_top5.index = df_top5.index.map(int) # let's change the index values of df_top5 to type integer for plotting\n",
    "df_top5.plot(kind='line', figsize=(14, 8)) # pass a tuple (x, y) size\n",
    "-->\n",
    "\n",
    "<!--\n",
    "plt.title('Immigration Trend of Top 5 Countries')\n",
    "plt.ylabel('Number of Immigrants')\n",
    "plt.xlabel('Years')\n",
    "-->\n",
    "\n",
    "<!--\n",
    "plt.show()\n",
    "-->"
   ]
  },
  {
   "cell_type": "code",
   "execution_count": null,
   "metadata": {
    "colab": {},
    "colab_type": "code",
    "collapsed": true,
    "id": "KxDomeDX9AVQ"
   },
   "outputs": [],
   "source": []
  },
  {
   "cell_type": "markdown",
   "metadata": {
    "button": false,
    "colab_type": "text",
    "deletable": true,
    "id": "A7-RdONmp6eR",
    "new_sheet": false,
    "run_control": {
     "read_only": false
    }
   },
   "source": [
    "### Other Plots\n",
    "\n",
    "Congratulations! you have learned how to wrangle data with python and create a line plot with Matplotlib. There are many other plotting styles available other than the default Line plot, all of which can be accessed by passing `kind` keyword to `plot()`. The full list of available plots are as follows:\n",
    "\n",
    "* `bar` for vertical bar plots\n",
    "* `barh` for horizontal bar plots\n",
    "* `hist` for histogram\n",
    "* `box` for boxplot\n",
    "* `kde` or `density` for density plots\n",
    "* `area` for area plots\n",
    "* `pie` for pie plots\n",
    "* `scatter` for scatter plots\n",
    "* `hexbin` for hexbin plot"
   ]
  },
  {
   "cell_type": "markdown",
   "metadata": {
    "button": false,
    "colab_type": "text",
    "deletable": true,
    "id": "eA6bLyihp6eS",
    "new_sheet": false,
    "run_control": {
     "read_only": false
    }
   },
   "source": [
    "# Thank you for completing this lab!"
   ]
  },
  {
   "cell_type": "markdown",
   "metadata": {
    "button": false,
    "colab_type": "text",
    "deletable": true,
    "id": "3yUF2W16p6eS",
    "new_sheet": false,
    "run_control": {
     "read_only": false
    }
   },
   "source": [
    "<hr>\n",
    "\n",
    "Copyright &copy; 2019 [Cognitive Class](https://cognitiveclass.ai/?utm_source=bducopyrightlink&utm_medium=dswb&utm_campaign=bdu). This notebook and its source code are released under the terms of the [MIT License](https://bigdatauniversity.com/mit-license/)."
   ]
  },
  {
   "cell_type": "code",
   "execution_count": null,
   "metadata": {
    "collapsed": true
   },
   "outputs": [],
   "source": []
  }
 ],
 "metadata": {
  "colab": {
   "collapsed_sections": [
    "i6IpP50fp6cU",
    "8nyNnJTqp6cV",
    "nJeaOqAZp6ch",
    "RAfjU3bPp6dC",
    "RzzG5aqEp6dO",
    "Xw9RewJWp6dP",
    "npoUbJUHp6dc",
    "A7-RdONmp6eR"
   ],
   "name": "Copy of DV0101EN-01-Introduction-to-Matplotlib-and-Line-Plots-py.ipynb",
   "provenance": [
    {
     "file_id": "12Ypw5wiE93ubcfZdSEHCBx6NhFCbTrge",
     "timestamp": 1563332670908
    }
   ],
   "version": "0.3.2"
  },
  "kernelspec": {
   "display_name": "Python [default]",
   "language": "python",
   "name": "python3"
  },
  "language_info": {
   "codemirror_mode": {
    "name": "ipython",
    "version": 3
   },
   "file_extension": ".py",
   "mimetype": "text/x-python",
   "name": "python",
   "nbconvert_exporter": "python",
   "pygments_lexer": "ipython3",
   "version": "3.5.6"
  }
 },
 "nbformat": 4,
 "nbformat_minor": 0
}
